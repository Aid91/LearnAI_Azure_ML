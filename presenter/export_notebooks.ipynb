{
 "cells": [
  {
   "cell_type": "markdown",
   "metadata": {},
   "source": [
    "# Exporting notebooks from ADB\n",
    "\n",
    "This notebook does two things:\n",
    "1. It recursively exports a folder recursively as a dbc archive.\n",
    "1. It recursively exports all notebooks in a folder as jupyter notebooks.\n",
    "\n",
    "We start with the setup"
   ]
  },
  {
   "cell_type": "code",
   "execution_count": 1,
   "metadata": {},
   "outputs": [],
   "source": [
    "path = 'notebooks' # the path to folder in your ADB workspace\n",
    "\n",
    "region = 'westus'\n",
    "username = 'wopauli@microsoft.com' "
   ]
  },
  {
   "cell_type": "markdown",
   "metadata": {},
   "source": [
    "We configure the personal access token we configured in ADB. We are reading it in here to reduce the odds of accidentally exposing it."
   ]
  },
  {
   "cell_type": "code",
   "execution_count": 2,
   "metadata": {},
   "outputs": [],
   "source": [
    "with open('token.txt', 'r') as f:\n",
    "    token = f.read().strip()\n",
    "    \n",
    "headers = {\n",
    "    'Authorization': 'Bearer %s' % token\n",
    "}"
   ]
  },
  {
   "cell_type": "markdown",
   "metadata": {},
   "source": [
    "Next we download the entire DBC archive. THis serves multiple purposes:\n",
    "1. We have it exported.\n",
    "1. We will list its contents so that we can export jupyter notebooks one by one."
   ]
  },
  {
   "cell_type": "code",
   "execution_count": 3,
   "metadata": {},
   "outputs": [
    {
     "name": "stdout",
     "output_type": "stream",
     "text": [
      "Starting export of DBC archive. This might take a while, depending on your connection.\n",
      "Done.\n",
      "Writing to file.\n"
     ]
    }
   ],
   "source": [
    "import requests\n",
    "\n",
    "url = 'https://%s.azuredatabricks.net/api/2.0/workspace/export?path=/Users/%s/%s&direct_download=true&format=DBC' % (region, username, path)\n",
    "\n",
    "print(\"Starting export of DBC archive. This might take a while, depending on your connection.\")\n",
    "r = requests.get(url=url, headers=headers)\n",
    "print(\"Done.\")\n",
    "\n",
    "if r.ok:\n",
    "    print(\"Writing to file.\")\n",
    "    with open(path + '.dbc', 'wb') as f:\n",
    "        f.write(r.content)\n",
    "else:\n",
    "    print(\"Downloading notebook archive failed\")"
   ]
  },
  {
   "cell_type": "markdown",
   "metadata": {},
   "source": [
    "We list the notebooks contained in the archive."
   ]
  },
  {
   "cell_type": "code",
   "execution_count": 4,
   "metadata": {},
   "outputs": [],
   "source": [
    "import zipfile\n",
    "\n",
    "path_to_zip_file = './notebooks.dbc'\n",
    "zip_ref = zipfile.ZipFile(path_to_zip_file, 'r')\n",
    "\n",
    "files = zip_ref.namelist()\n",
    "\n",
    "notebooks = [x for x in files if x.endswith('.python')]"
   ]
  },
  {
   "cell_type": "markdown",
   "metadata": {},
   "source": [
    "We iterate through the notebooks, and export one by one as a jupyter notebook."
   ]
  },
  {
   "cell_type": "code",
   "execution_count": 5,
   "metadata": {},
   "outputs": [
    {
     "name": "stdout",
     "output_type": "stream",
     "text": [
      "Working on: notebooks/tests/run_notebooks\n",
      "Working on: notebooks/day_1/04_hyperparameter_tuning\n",
      "Working on: notebooks/day_1/03_sentiment_analysis\n",
      "Working on: notebooks/day_1/05_structured_streaming\n",
      "Working on: notebooks/day_1/02_feature_engineering\n",
      "Working on: notebooks/day_1/01_introduction\n",
      "Working on: notebooks/includes/mnt_blob\n",
      "Working on: notebooks/includes/mnt_blob_rw\n",
      "Working on: notebooks/day_2/06_deployment\n",
      "Working on: notebooks/day_2/05_automated_ML\n",
      "Working on: notebooks/day_2/03_aml_getting_started\n",
      "Working on: notebooks/day_2/02_random_forests\n",
      "Working on: notebooks/day_2/01_logistic_regression\n",
      "Working on: notebooks/day_2/04_ml_experimentation\n"
     ]
    }
   ],
   "source": [
    "import os\n",
    "\n",
    "for notebook in notebooks:\n",
    "    notebook = os.path.splitext(notebook)[0]\n",
    "    print(\"Working on: %s\" % notebook)\n",
    "    url = 'https://%s.azuredatabricks.net/api/2.0/workspace/export?path=/Users/%s/%s&direct_download=true&format=JUPYTER' % (region, username, notebook)\n",
    "\n",
    "    r = requests.get(url=url, headers=headers)\n",
    "    if r.ok:\n",
    "        notebook_path, ipynb_notebook = os.path.split(notebook + \".ipynb\")\n",
    "        \n",
    "        if not os.path.exists(notebook_path):\n",
    "            os.makedirs(notebook_path)\n",
    "            \n",
    "        with open(os.path.join(notebook_path, ipynb_notebook), 'wb') as f:\n",
    "            f.write(r.content)\n",
    "    else:\n",
    "        print(\"Failed: %s\" % notebook)"
   ]
  },
  {
   "cell_type": "code",
   "execution_count": 6,
   "metadata": {},
   "outputs": [
    {
     "data": {
      "text/plain": [
       "'notebooks/includes'"
      ]
     },
     "execution_count": 6,
     "metadata": {},
     "output_type": "execute_result"
    }
   ],
   "source": [
    "notebook_path"
   ]
  },
  {
   "cell_type": "markdown",
   "metadata": {},
   "source": [
    "Consider using the following command to clear the output of all notebooks. \n",
    "\n",
    "*Note:* this may require `git bash` or `bash`, and may not work in vania\n",
    "\n",
    "jupyter nbconvert --ClearOutputPreprocessor.enabled=True --inplace Notebook.ipynb"
   ]
  }
 ],
 "metadata": {
  "kernelspec": {
   "display_name": "Python 3",
   "language": "python",
   "name": "python3"
  },
  "language_info": {
   "codemirror_mode": {
    "name": "ipython",
    "version": 3
   },
   "file_extension": ".py",
   "mimetype": "text/x-python",
   "name": "python",
   "nbconvert_exporter": "python",
   "pygments_lexer": "ipython3",
   "version": "3.7.1"
  }
 },
 "nbformat": 4,
 "nbformat_minor": 2
}
