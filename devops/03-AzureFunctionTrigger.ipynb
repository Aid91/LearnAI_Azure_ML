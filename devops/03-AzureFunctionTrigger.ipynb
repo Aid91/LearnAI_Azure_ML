{
  "cells": [
    {
      "metadata": {
        "collapsed": true
      },
      "cell_type": "markdown",
      "source": "# Azure Functions\n\nAzure Functions is Microsoft's serverless computing service. Traditional application development demands a consideration of the underlying IT infrastructure. Serverless computing, also known as function as a service, aims to eliminate infrastructure considerations for the user. With serverless, a user can simply create and upload code, and then define the triggers or events that will execute the code. \n\nTriggers are what cause a function to run. In this workshop, we will develop a HTTP trigger that lets you invoke a function with an HTTP request. You can use an HTTP trigger to build serverless APIs and respond to webhooks. The release pipeline will then invoke a HTTP triggered function in an Azure function app and parse the response."
    },
    {
      "metadata": {},
      "cell_type": "markdown",
      "source": "### Create a Function App\n\n1. In the azure portal, create a function app by first selecting _Create a Resource_. In the _Search the Marketplace_ textbox, type `Function App` and you should see the create window as follows. Select _Create_.\n\n![createFunctionApp alt <](../images/createFunctionApp.png)\n\n2. In the next window, populate the mandatory fields. Note: We will use Runtime Stack: Javascript and OS: Windows.\n\n![functionAppFields](../images/functionAppFields.png)"
    },
    {
      "metadata": {
        "trusted": true
      },
      "cell_type": "markdown",
      "source": "### New Function\n\n1. On success, you would have created a function app and it's now time to add code. Select _+New Function_.\n\n![newFunction](../images/newFunction.png)\n\n2. We will use _In-portal_ editor to author functions quickly in the portal. Choose _In-portal_ and select _Continue_ as shown below:\n\n![newFunctionGettingStarted](../images/newFunctionGettingStarted.png)\n\n3. Provide a function name in the next window and Authorization level: _Anonymous_.\n\n![newFunctionTrigger](../images/newFunctionTrigger.png)"
    },
    {
      "metadata": {},
      "cell_type": "markdown",
      "source": "### Setup and Execution\n\n1. In the console, we will need to install packages for calling the _Azure DevOps Services REST APIs_. We will first use npm init command to create a new _package.json_ using console:\n\n````javascript\n    npm init --yes\n````\n\nA _package.json_ file can be described as a manifest of your project that includes the packages and applications it depends on, information about its unique source control, and specific metadata like the project's name, description, and author. Here's an example of how these fields would look in a package.json file:\n\n![npmInit](images/npmInit.png)\n\n````json\n{\n    \"name\": \"projectname\", // The name of your project\n    \"version\": \"0.1.23\", // The version of your project\n    \"description\": \"Snippet about your project\", // The description of your project\n    \"main\": \"index.js\"\n    \"license\": \"MS\" // The license of your project\n}\n````\n\n2. In the console, install xmlhttprequest by running ` npm install xmlhttprequest `\nas shown below:\n\n![npmPackage](images/npmPackage.png)\n\nXMLHttpRequest is a built-in browser object that allows to make HTTP requests in JavaScript. We will be using it to get responses from _Azure DevOps Services REST APIs_ in our function. The warnings in red can be ignored.\n\n3. Replace the content of `index.js` in the Azure Function portal with the content of `test_analysis.js`. Update the following parameters in the code:\n\n````javascript\n    var url = \"https://dev.azure.com/{organization}/{project}/_apis/test/runs?api-version=5.0\"\n    var username = \"{username}\"\n    var password = \"{personal_access_token}\"\n````\n\n| Name   |      Description      |\n|----------|-------------|\n| _organization_ |  The name of the Azure DevOps organization |\n| _project_ |    Project name   |\n| _username_ | Username associated with the Azure Devops account |\n| _password_ | Personal access token. This can be passed in the authorization header to access REST APIs. Refer to the next section on how to create Personal Access Token |"
    },
    {
      "metadata": {},
      "cell_type": "markdown",
      "source": "#### Personal Access Token\n\nTo create a new personal access token, follow the below three steps:\n\n1. Select _Security_ after clicking the user icon on the upper right hand corner as shown below:\n\n    ![npmPackage](../images/security.png)\n\n2. Select _+ New Token_ next. Populate _Name_ and change scope to _Full access_ as shown below:\n\n    ![npmPackage](../images/personalAccessToken.png)\n\n3. On success, you should have successfully added a new personal access token. Copy the token now and store it in a safe place! "
    },
    {
      "metadata": {},
      "cell_type": "markdown",
      "source": "### Function URL\n\nYou can get the function url by selecting _</> Get function URL_. For example:\n\n![npmPackage](../images/functionURL.png)\n\nPaste the url in a browser and obtain the response body that is JSON content. If you see the following, you are ready to proceed with next steps of integrating the Azure Function with a gate.\n\n````javascript\n{\n    \"status\": \"success\"\n}\n````\n\nMake a note of the url as we will be using it in the next lab."
    },
    {
      "metadata": {},
      "cell_type": "markdown",
      "source": "### Exercise\n\nThe Azure Function checks to see if all of the tests passsed. Can you tweak the code to relax this to check if a certain percentage of the tests passed?\n\n_Hint:_ The two variables `totalTests` and `passedTests` capture the total number of tests and the number of tests that passed."
    }
  ],
  "metadata": {
    "kernelspec": {
      "name": "python3",
      "display_name": "Python 3",
      "language": "python"
    },
    "language_info": {
      "mimetype": "text/x-python",
      "nbconvert_exporter": "python",
      "name": "python",
      "file_extension": ".py",
      "version": "3.5.4",
      "pygments_lexer": "ipython3",
      "codemirror_mode": {
        "version": 3,
        "name": "ipython"
      }
    }
  },
  "nbformat": 4,
  "nbformat_minor": 2
}