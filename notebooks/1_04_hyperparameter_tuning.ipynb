{
 "cells": [
  {
   "cell_type": "markdown",
   "metadata": {},
   "source": [
    "##![LearnAI Header](https://coursematerial.blob.core.windows.net/assets/LearnAI_header.png)"
   ]
  },
  {
   "cell_type": "markdown",
   "metadata": {},
   "source": [
    "-sandbox\n",
    "# Hyperparameter tuning with Azure Databricks\n",
    "\n",
    "In this lab, we will discuss how to perform hyperparameter tuning. This is an obiquitous task in AI and ML projects.\n",
    "\n",
    "Let's make sure we understand the distinction between hyperparameter and model parameters:\n",
    "- **Hyperparameters**: These are choices that e.g. a data scientist has to make when setting up their machine learning pipeline. Examples of hyperparameters are: learning rates, regularization, how to handle missing values.\n",
    "- **Model parameters**: These are parameters that a model can *learn* in order to e.g. make better predictions. For example, when using [linear regression](https://en.wikipedia.org/wiki/Linear_regression) to predict the weight of a person based on their height, the algorithm learns to find the best [intercept and slope](https://en.wikipedia.org/wiki/Simple_linear_regression#Fitting_the_regression_line) to make the most accurate predictions."
   ]
  },
  {
   "cell_type": "markdown",
   "metadata": {},
   "source": [
    "## Mount data"
   ]
  },
  {
   "cell_type": "code",
   "execution_count": 4,
   "metadata": {},
   "outputs": [],
   "source": [
    "%run \"../presenter/mnt_blob\""
   ]
  },
  {
   "cell_type": "markdown",
   "metadata": {},
   "source": [
    "## Loading the data\n",
    "\n",
    "We begin by loading our data, which is stored in the CSV format</a>."
   ]
  },
  {
   "cell_type": "code",
   "execution_count": 6,
   "metadata": {},
   "outputs": [
    {
     "data": {
      "text/html": [
       "<style scoped>\n",
       "  .ansiout {\n",
       "    display: block;\n",
       "    unicode-bidi: embed;\n",
       "    white-space: pre-wrap;\n",
       "    word-wrap: break-word;\n",
       "    word-break: break-all;\n",
       "    font-family: \"Source Code Pro\", \"Menlo\", monospace;;\n",
       "    font-size: 13px;\n",
       "    color: #555;\n",
       "    margin-left: 4px;\n",
       "    line-height: 19px;\n",
       "  }\n",
       "</style>\n",
       "<div class=\"ansiout\"><span class=\"ansired\">Out[</span><span class=\"ansired\">4</span><span class=\"ansired\">]: </span>4130\n",
       "</div>"
      ]
     },
     "metadata": {},
     "output_type": "display_data"
    }
   ],
   "source": [
    "fileName = \"gwDF\"\n",
    "\n",
    "initialDF = (spark.read          # our DataFrameReader\n",
    "  .option(\"header\", \"true\")      # let Spark know we have a header\n",
    "  .option(\"inferSchema\", \"true\") # infering the schema (it is a small dataset)\n",
    "  .parquet(fileName)             # location of our data\n",
    "  .cache()                       # mark the DataFrame as cached.\n",
    ")\n",
    "\n",
    "initialDF.count()                # materialize the cache"
   ]
  },
  {
   "cell_type": "code",
   "execution_count": 7,
   "metadata": {},
   "outputs": [
    {
     "data": {
      "text/html": [
       "<style scoped>\n",
       "  .ansiout {\n",
       "    display: block;\n",
       "    unicode-bidi: embed;\n",
       "    white-space: pre-wrap;\n",
       "    word-wrap: break-word;\n",
       "    word-break: break-all;\n",
       "    font-family: \"Source Code Pro\", \"Menlo\", monospace;;\n",
       "    font-size: 13px;\n",
       "    color: #555;\n",
       "    margin-left: 4px;\n",
       "    line-height: 19px;\n",
       "  }\n",
       "</style>\n",
       "<div class=\"ansiout\">root\n",
       "-- tweet: string (nullable = true)\n",
       "-- existence: integer (nullable = true)\n",
       "-- confidence: double (nullable = true)\n",
       "\n",
       "</div>"
      ]
     },
     "metadata": {},
     "output_type": "display_data"
    }
   ],
   "source": [
    "initialDF.printSchema()"
   ]
  },
  {
   "cell_type": "markdown",
   "metadata": {},
   "source": [
    "## Train/Test Split\n",
    "\n",
    "As before, we split our dataset into separate training and test sets.\n",
    "\n",
    "Using the `randomSplit()` function, we split the data such that 80% of the data is reserved for training and the remaining 30% for testing. \n",
    "\n",
    "For more information see:\n",
    "* Python: <a href=\"https://spark.apache.org/docs/latest/api/python/pyspark.sql.html#pyspark.sql.DataFrame.randomSplit\" target=\"_blank\">DataFrame.randomSplit()</a>"
   ]
  },
  {
   "cell_type": "code",
   "execution_count": 9,
   "metadata": {},
   "outputs": [
    {
     "data": {
      "text/html": [
       "<style scoped>\n",
       "  .ansiout {\n",
       "    display: block;\n",
       "    unicode-bidi: embed;\n",
       "    white-space: pre-wrap;\n",
       "    word-wrap: break-word;\n",
       "    word-break: break-all;\n",
       "    font-family: \"Source Code Pro\", \"Menlo\", monospace;;\n",
       "    font-size: 13px;\n",
       "    color: #555;\n",
       "    margin-left: 4px;\n",
       "    line-height: 19px;\n",
       "  }\n",
       "</style>\n",
       "<div class=\"ansiout\">We have 3346 training examples and 784 test examples.\n",
       "</div>"
      ]
     },
     "metadata": {},
     "output_type": "display_data"
    }
   ],
   "source": [
    "trainDF, testDF = initialDF.randomSplit(\n",
    "  [0.8, 0.2],  # 80-20 split\n",
    "  seed=42)     # For reproducibility\n",
    "\n",
    "print(\"We have %d training examples and %d test examples.\" % (trainDF.count(), testDF.count()))\n",
    "assert (trainDF.count() == 3346)"
   ]
  },
  {
   "cell_type": "code",
   "execution_count": 10,
   "metadata": {},
   "outputs": [
    {
     "data": {
      "text/html": [
       "<style scoped>\n",
       "  .ansiout {\n",
       "    display: block;\n",
       "    unicode-bidi: embed;\n",
       "    white-space: pre-wrap;\n",
       "    word-wrap: break-word;\n",
       "    word-break: break-all;\n",
       "    font-family: \"Source Code Pro\", \"Menlo\", monospace;;\n",
       "    font-size: 13px;\n",
       "    color: #555;\n",
       "    margin-left: 4px;\n",
       "    line-height: 19px;\n",
       "  }\n",
       "</style>\n",
       "<div class=\"ansiout\"></div>"
      ]
     },
     "metadata": {},
     "output_type": "display_data"
    }
   ],
   "source": [
    "from pyspark.ml.feature import RegexTokenizer, StopWordsRemover, IDF, CountVectorizer\n",
    "from pyspark.ml import Pipeline\n",
    "from pyspark.ml.classification import LogisticRegression\n",
    "\n",
    "tokenizer = (RegexTokenizer()\n",
    "            .setInputCol(\"tweet\")\n",
    "            .setOutputCol(\"tokens\")\n",
    "            .setPattern(\"\\\\W+\"))\n",
    "\n",
    "remover = (StopWordsRemover()\n",
    "          .setInputCol(\"tokens\")\n",
    "          .setOutputCol(\"stopWordFree\"))\n",
    "\n",
    "counts = (CountVectorizer()\n",
    "          .setInputCol(\"stopWordFree\")\n",
    "          .setOutputCol(\"counts\"))\n",
    "\n",
    "idf = IDF(inputCol=\"counts\", outputCol=\"features\")\n",
    "\n",
    "lg = LogisticRegression().setLabelCol('existence').setFeaturesCol(\"features\")\n",
    "\n",
    "pipeline = Pipeline().setStages([tokenizer, remover, counts, idf, lg])"
   ]
  },
  {
   "cell_type": "code",
   "execution_count": 11,
   "metadata": {},
   "outputs": [
    {
     "data": {
      "text/html": [
       "<style scoped>\n",
       "  .ansiout {\n",
       "    display: block;\n",
       "    unicode-bidi: embed;\n",
       "    white-space: pre-wrap;\n",
       "    word-wrap: break-word;\n",
       "    word-break: break-all;\n",
       "    font-family: \"Source Code Pro\", \"Menlo\", monospace;;\n",
       "    font-size: 13px;\n",
       "    color: #555;\n",
       "    margin-left: 4px;\n",
       "    line-height: 19px;\n",
       "  }\n",
       "</style>\n",
       "<div class=\"ansiout\"></div>"
      ]
     },
     "metadata": {},
     "output_type": "display_data"
    }
   ],
   "source": [
    "pipelineModel = pipeline.fit(trainDF)"
   ]
  },
  {
   "cell_type": "markdown",
   "metadata": {},
   "source": [
    "## Test pipeline on hold-out data\n",
    "\n",
    "Next, apply the trained pipeline model to the test set."
   ]
  },
  {
   "cell_type": "code",
   "execution_count": 13,
   "metadata": {},
   "outputs": [
    {
     "data": {
      "text/html": [
       "<style scoped>\n",
       "  .ansiout {\n",
       "    display: block;\n",
       "    unicode-bidi: embed;\n",
       "    white-space: pre-wrap;\n",
       "    word-wrap: break-word;\n",
       "    word-break: break-all;\n",
       "    font-family: \"Source Code Pro\", \"Menlo\", monospace;;\n",
       "    font-size: 13px;\n",
       "    color: #555;\n",
       "    margin-left: 4px;\n",
       "    line-height: 19px;\n",
       "  }\n",
       "</style>\n",
       "<div class=\"ansiout\">Accuracy: 0.8290816326530612\n",
       "</div>"
      ]
     },
     "metadata": {},
     "output_type": "display_data"
    }
   ],
   "source": [
    "from pyspark.ml.evaluation import MulticlassClassificationEvaluator\n",
    "\n",
    "resultDF = pipelineModel.transform(testDF)\n",
    "\n",
    "evaluator = (MulticlassClassificationEvaluator()\n",
    "             .setLabelCol(\"existence\")\n",
    "             .setMetricName('accuracy'))\n",
    "\n",
    "init_accuracy = evaluator.evaluate(resultDF)\n",
    "\n",
    "print(\"Accuracy: %(result)s\" % {\"result\": init_accuracy})"
   ]
  },
  {
   "cell_type": "code",
   "execution_count": 14,
   "metadata": {},
   "outputs": [
    {
     "data": {
      "text/html": [
       "<style scoped>\n",
       "  .table-result-container {\n",
       "    max-height: 300px;\n",
       "    overflow: auto;\n",
       "  }\n",
       "  table, th, td {\n",
       "    border: 1px solid black;\n",
       "    border-collapse: collapse;\n",
       "  }\n",
       "  th, td {\n",
       "    padding: 5px;\n",
       "  }\n",
       "  th {\n",
       "    text-align: left;\n",
       "  }\n",
       "</style><div class='table-result-container'><table class='table-result'><thead style='background-color: white'><tr><th>tweet</th><th>existence</th><th>prediction</th></tr></thead><tbody><tr><td>\"\"\"@NASA Climate Change\"\" is now on #Facebook. Become a fan & keep up w/ the #climate science buzz http://bit.ly/dzKcEq RT @Flipbooks\"</td><td>1</td><td>1.0</td></tr><tr><td>\"\"\"All 30 Major League Baseball Teams Throw Curve to Climate Change Deniers : CleanTechnica\"\" http://j.mp/ars7W2 #cleantech #greentech #MLB\"</td><td>1</td><td>1.0</td></tr><tr><td>\"\"\"Any\"\" = legitimate efforts by scientists to mislead and missrepresent their global warming findings. I haven't heard any implications yet.\"</td><td>1</td><td>1.0</td></tr><tr><td>\"\"\"Kerry Graham Lieberman Climate Bill - KGL Global Warming Energy Bill - thedailygreen.com\"\" http://j.mp/adUkuK\"</td><td>1</td><td>1.0</td></tr><tr><td>\"\"\"Political talk shows discuss global warming. This is science (fiction).\"\"\"</td><td>0</td><td>1.0</td></tr><tr><td>\"..leaders are failing to address the gravest threat our world has ever faced...\"\" \"\"Pressuring politicians on climate change is not working.\"</td><td>1</td><td>1.0</td></tr><tr><td>\"@1HotItalian First it was global cooling, then it was global warming, now it's climate change (AKA \"\"weather\"\"). Simple! :) #tcot\"</td><td>0</td><td>0.0</td></tr><tr><td>\"@1kevgriff it's nature's way os saying \"\"Global warming my a$$!\"\"\"</td><td>0</td><td>0.0</td></tr><tr><td>\"@CalebHowe So in other words, \"\"Global Climate Change\"\" has its benefits. I could live with this.\"</td><td>1</td><td>1.0</td></tr><tr><td>\"@KagroX Plate tectonics is one of those scientific \"\"theories\"\" like global warming and evolution which will destroy families and raise taxes\"</td><td>0</td><td>1.0</td></tr><tr><td>\"@TerriSueWho And EXACTLY why we say \"\"global warming schmorming!\"\"\"</td><td>0</td><td>0.0</td></tr><tr><td>\"BOYCOTT SIEMENS for buying \"\"global warming\"\"/\"\"climate change\"\" in their advertisements. #tcot #sgp #teaparty\"</td><td>0</td><td>0.0</td></tr><tr><td>\"CBS News: Conservatives Use \"\"Snowmageddon\"\" to Mock Global Warming http://tinyurl.com/yks75n5\"</td><td>0</td><td>0.0</td></tr><tr><td>\"Checking out \"\"Global Warming to Blame for Icelandic Volcanic Eruption\"\" on Freedom Pub: http://ning.it/9DEGrP #iceland #tcot #tlot #climate\"</td><td>1</td><td>1.0</td></tr><tr><td>\"Daniel C. Esty: Climate Change Plan B: Bringing down greenhouse gas emissions with a \"\"cap and trade\"\" system of tr... http://huff.to/d2RUP1\"</td><td>1</td><td>1.0</td></tr><tr><td>\"Government scientists suggest inter-agency \"\"fuzzy hubs\"\" to deal with mass extinctions brought on by climate change http://bit.ly/cRPlK4\"</td><td>1</td><td>1.0</td></tr><tr><td>\"I wish it wouldve been called \"\"global climate change\"\" from the start! RT @MotherJones Snowpocalypse: Take That Al Gore! http://bit.ly/9LOMhn\"</td><td>1</td><td>0.0</td></tr><tr><td>\"Just finished watching \"\"The Thaw\"\" and if you get past the global warming propaganda in thebegin&end it still sucks. I give it2 broken thumbs\"</td><td>0</td><td>0.0</td></tr><tr><td>\"Larry Brilliant at #TEDxVolcano: \"\"We have to fight for science; the single most important thing we face is climate change\"\" #socmedia @enviro\"</td><td>1</td><td>1.0</td></tr><tr><td>\"Larry Brilliant at TEDxVolcano: \"\"We have to fight for science; the single most important thing we face is climate change\"\" #socent #green\"</td><td>1</td><td>1.0</td></tr><tr><td>\"NOAA announces new climate change \"\"portal\"\" www.climate.gov and plans for a Climate Service to provide data http://www.noaa.gov/climate.html\"</td><td>1</td><td>1.0</td></tr><tr><td>\"Natives gather in Bolivia to criticize \"\"Copenhagen club.\"\" http://www.bluecorncomics.com/2010/04/climate-change-conference-in-bolivia.htm\"</td><td>1</td><td>1.0</td></tr><tr><td>\"RT @CalebHowe: I've officially heard one too many \"\"so much for global warming\"\" #snomg cracks. We need to save or create some new jokes.\"</td><td>1</td><td>1.0</td></tr><tr><td>\"RT @MMFA: Radio host Sussman: Gore \"\"doesn't believe in global warming ... he believes in money\"\": Fro... http://bit.ly/cqyb4Y ( #p2 #media )\"</td><td>0</td><td>0.0</td></tr><tr><td>\"RT @NavyNews: Global warming on Navy radar. \"\"New\"\" normal for the Arctic is to be not completely frozen. New normal? http://bit.ly/9uFZaj\"</td><td>1</td><td>1.0</td></tr><tr><td>\"RT @OpenCongress: \"\"Record snow hs buried D.C. ' and buried chances of passing global warming legislation this year.\"\" http://bit.ly/adxgbq\"</td><td>0</td><td>0.0</td></tr><tr><td>\"RT @ddimick: UN: \"\"Accelerated migration and climate change a 'recipe for social disaster'\"\" (via @alertnetclimate) http://post.ly/N9td\"</td><td>1</td><td>1.0</td></tr><tr><td>\"RT @joelcomm: The Great Global-Warming Collapse - http://TwitPWR.com/Dev/  (good.. can we now get back to reality?) &lt;&lt; The \"\"settled science\"\"\"</td><td>0</td><td>0.0</td></tr><tr><td>\"RT @kalimakhus @SocialistViews Perhaps denial of \"\"Climate change\"\" == denial that Capitalism is not sustainable http://socwrk.org/8696\"</td><td>1</td><td>1.0</td></tr><tr><td>\"RT @virgiltexas: Hey Al Gore: see these tornadoes racing across Mississippi? So much for global \"\"warming\"\" #tornadocot #ocra #sgp #gop #ucot #tlot #p2 #tycot\"</td><td>0</td><td>0.0</td></tr><tr><td>\"Report: Exxon Still Orchestrating Campaign to \"\"Undermine Public Acceptance of Global Warming\"\" http://bit.ly/amEhlJ\"</td><td>1</td><td>1.0</td></tr><tr><td>\"So far in that class I have gotten into \"\"heated discussion\"\" with global climate change denier and w/ student that nothing is \"\"their fault.\"\"\"</td><td>1</td><td>1.0</td></tr><tr><td>\"rt @democracy_now \"\"Most Important Event in Struggle Against Climate Change\"\" - Nigerian Environmentalist Nnimmo Bassey http://bit.ly/beV0W0\"</td><td>1</td><td>1.0</td></tr><tr><td>\"seriously though...when did the conservative view become \"\"i'm going to destroy the environment because global warming isn't real\"\"\"</td><td>1</td><td>0.0</td></tr><tr><td>#KCRW GoodFood Blog: Recycling Water; Meat and Global Warming; Peanuts; Rare Grapes http://bit.ly/cdq1ZJ</td><td>1</td><td>1.0</td></tr><tr><td>#Ocean Saltiness Shows #Global Warming Is Intensifying Our Water Cycle : TreeHugger http://bit.ly/9iuMYS</td><td>1</td><td>1.0</td></tr><tr><td>#enviroment: Global warming conference set Sunday http://allconcern.com/global-warming-conference-set-sunday/</td><td>1</td><td>1.0</td></tr><tr><td>#home OT - Can I reschedule my global warming pitch?: Just think if you finally got on the schedule to do a pitch ... http://bit.ly/daukSy</td><td>1</td><td>0.0</td></tr><tr><td>#justinbiebersucks and global warming is a farce</td><td>0</td><td>0.0</td></tr><tr><td>#snOMG has no more link to #climate change than did those 100s of stories about warm weather. Where were whiners then? #TCOT #TLOT</td><td>0</td><td>1.0</td></tr><tr><td>#snow #blizzard In the middle of the snowpocalypse, wondering what publics think of climate change? Check it out: http://bit.ly/3noViz</td><td>1</td><td>0.0</td></tr><tr><td>-- Press Releases April 2010 - Climate change negotiators agree on intensified .. http://retwt.me/1MNQO (via @UNEPandYou)</td><td>1</td><td>1.0</td></tr><tr><td>. Global Warming: Melting Away! | The Doc Is In effects of global warming http://bit.ly/9e5vFk</td><td>1</td><td>1.0</td></tr><tr><td>. global warming Study Says Arctic Ice Melt to Cost Global Economy $2.4 Trillion http://bit.ly/dxIaFb</td><td>1</td><td>1.0</td></tr><tr><td>. http://bit.ly/aqwt24 global warming facts World leaders back embattled Pachauri</td><td>1</td><td>1.0</td></tr><tr><td>10 Sustainable Super Structures to withstand global climate change: http://bit.ly/coemLB</td><td>1</td><td>1.0</td></tr><tr><td>10 to 20 inches for D.C. region Tuesday into Wednesday? Stop the global warming! http://ow.ly/15hyn #Snowpocalypse @KEder @wikipublius</td><td>1</td><td>1.0</td></tr><tr><td>124 Toyota Prius' have had break failures leading to a $2 billion recall. Tried to slow global warming but couldn't stop, what a shame.</td><td>1</td><td>0.0</td></tr><tr><td>15-year old speaks about global warming at Palace Theater: Alec Loorz has given more than 30 presentations on clim... http://bit.ly/c0b1Y5</td><td>1</td><td>1.0</td></tr><tr><td>15-year old speaks about global warming at Palace Theater|Earth Day may have come and gone, but the fight to .. http://oohja.com/xbvQ1</td><td>1</td><td>1.0</td></tr><tr><td>17. Moral authority - do we have the rt. to do this? Takeaway: geo-eng has a LOT OF RISKS (then again, so does runaway climate change). :(</td><td>1</td><td>1.0</td></tr><tr><td>2 quote Ackroyd's SNL anchor: Joy Behar, u ignorant slut! You BELIEVE in global warming and u mock Palin? http://bit.ly/9h6d3c Ur an idiot!</td><td>0</td><td>1.0</td></tr><tr><td>29 Graphs of Climate Change Science in One Place | Alternative ... http://bit.ly/defx2I</td><td>1</td><td>1.0</td></tr><tr><td>4-5 foot snow drifts in VA. Good job Global Warming. YOUR FIRED!</td><td>0</td><td>0.0</td></tr><tr><td>40 degrees in NYC. please urinate on next liberal global warming /climate change scum you see.</td><td>0</td><td>0.0</td></tr><tr><td>60 years ago today, my uncle was born in a blizzard. Yeah, climate change is a lie</td><td>0</td><td>0.0</td></tr><tr><td>62% support #environmental movement, but 48% told Gallup global warming is exaggerated. http://earthlingangst.blogspot.com #globalwarming</td><td>1</td><td>0.0</td></tr><tr><td>85 degrees in April eh? Hellooo global warming, nice to meet u</td><td>1</td><td>1.0</td></tr><tr><td>:) http://bit.ly/b2du4M stop global warming The Global Climate: Yes, Its Still Warming</td><td>1</td><td>1.0</td></tr><tr><td>:P http://bit.ly/bgxiU6 stop global warming The great global warming collapse</td><td>1</td><td>0.0</td></tr><tr><td>;O Winter Arctic Blast Proves Climate Change is Real http://bit.ly/98WI1L al gore global warming</td><td>1</td><td>1.0</td></tr><tr><td>;P ways to stop global warming IPCC devil deserves its due http://bit.ly/aWcovy</td><td>1</td><td>1.0</td></tr><tr><td>@AdrienneRoyer - ok, but climate change models say stronger storms. We have stronger storms now. So model is wrong?</td><td>0</td><td>0.0</td></tr><tr><td>@CO2HOG EPA Puts a Mafia-Style Hit on Sound Science #global warming #climate change http://bit.ly/cFh5Pl</td><td>0</td><td>0.0</td></tr><tr><td>@Climate change Giant #Glacier Fall in Peru Causes Deadly Tsunami : http://bit.ly/bvG95C</td><td>1</td><td>1.0</td></tr><tr><td>@Cubachi you are so on target, Bullshit is even better than the climate change hoax & Gore /Climate change is bullshit #leadersdebate #fact</td><td>0</td><td>0.0</td></tr><tr><td>@EdibleSF Are the models capable of projecting climate changes for 100 years? #global warminghttp://bit.ly/bfMKmz</td><td>1</td><td>1.0</td></tr><tr><td>@GovernAmerica You're bluffing. There is overwhelming consensus among climate scientists for the basic global warming narrative.</td><td>1</td><td>1.0</td></tr><tr><td>@GregMitch has there been any reporting on if the increase in sediment in upper atmospher could reduce global warming effect by reducing sun</td><td>1</td><td>1.0</td></tr><tr><td>@Heritage  Climate Change Scientific Consensus Cloudy as Ever  http://twurl.nl/jiv3qv</td><td>0</td><td>0.0</td></tr><tr><td>@JimPrentice making progress? RT @bbcworld: The chances of forging a binding agreement on climate change are small... http://bit.ly/aH1PWt</td><td>1</td><td>1.0</td></tr><tr><td>@LamontKingtv LOL I'm just making a funny. But YES global warming is REAL.</td><td>1</td><td>0.0</td></tr><tr><td>@LilBitSassy Can you say global warming!..hmpft lol!</td><td>0</td><td>0.0</td></tr><tr><td>@MNNative  I don't know anymore, Global warming?...oops Climate Change!</td><td>0</td><td>0.0</td></tr><tr><td>@Mac80537 Climate change theory has long predicted increased ocean temp would lead to more sever storms.</td><td>1</td><td>1.0</td></tr><tr><td>@MatthewJLB Funny RFK Jr. wrote a column last winter that global warming led to rare snow in DC #fail</td><td>0</td><td>0.0</td></tr><tr><td>@Michelinah42 Assuming that site is legit, it explains connection b/t what we call global warming & climate change....</td><td>1</td><td>1.0</td></tr><tr><td>@MrsJoJoxx Science disproves Global Warming Alarmist claims for Glaciers in Glacier National Park #climate change http://bit.ly/cS3ESR</td><td>1</td><td>1.0</td></tr><tr><td>@PDXRedhead Death by CAFE Standards:Green logic-Killing people to save them? #global warming #climate change #eco http://bit.ly/aC1Xd3</td><td>0</td><td>1.0</td></tr><tr><td>@SOULidified Good News! Cow Flatulence may REDUCE greenhouse Gasses #global warming #climate change #eco http://bit.ly/bllCHw</td><td>1</td><td>1.0</td></tr><tr><td>@SexyJada770 Yeah it wil be a hell of a snow storm! What happened to global warming? LOL With luck it will by pass NYC ! :)</td><td>0</td><td>0.0</td></tr><tr><td>@SooperMexican Global warming. Clearly.</td><td>1</td><td>1.0</td></tr><tr><td>@StndrdBitch The whole northern hemisphere is colder this winter. Record snowfalls in China and Europe. Must be global warming.</td><td>0</td><td>1.0</td></tr><tr><td>@Sweetfacecuttie damn global warming! lol</td><td>0</td><td>0.0</td></tr><tr><td>@TheCortez Global Warming causes a change in all patterns of weather. Including warmth, snow and rain</td><td>1</td><td>1.0</td></tr><tr><td>@Token12ga That's just wrong! As I told @underdad, who lives in Hawaii, weatherboarding is a climate change offense! @onetokenblack</td><td>1</td><td>1.0</td></tr><tr><td>@_Kaitie_  Team Paling GLOBAL WARMInG DOES NOT EXIST</td><td>0</td><td>0.0</td></tr><tr><td>@acereporter it has been mild, looks like our luck ran out, global warming wins. Finally caught a real snowstorm; whole 3 inches thus far...</td><td>0</td><td>1.0</td></tr><tr><td>@adrian_bacon PS: now unions can promote climate change all the way up2 election day--how did SCOTUS hurt climate change?</td><td>1</td><td>0.0</td></tr><tr><td>@algore fuck you man...I was your biggest supporter...then you let it rain like noahs ark...fuck your theory on global warming..</td><td>0</td><td>0.0</td></tr><tr><td>@alonsob_psm Worlds Greenest Celebrity: Limos, Pilots & Mansions, Oh My #global warming #climate change #green #eco http://bit.ly/9yiahH</td><td>1</td><td>1.0</td></tr><tr><td>@bradplumer tell us What The #Snowpocalypse Tells Us About Global Warming http://bit.ly/cYwHLy  #climate</td><td>1</td><td>1.0</td></tr><tr><td>@bryanrwalsh When I read 'I'm all for combating global warming, but,'  hard to keep reading. Wait till next yr and pass carbon tax? Pleeze.</td><td>1</td><td>0.0</td></tr><tr><td>@charliemax Please name a time in Earth's history when there wasn't climate change?  The climate always has and always will change</td><td>1</td><td>0.0</td></tr><tr><td>@chrisdodd: I live in CT. Please support the climate bill and strong action on climate change!</td><td>1</td><td>1.0</td></tr><tr><td>@collegepolitico They like to have it both ways. If it were sunny and 70 now, they'd blame it on global warming.</td><td>0</td><td>1.0</td></tr><tr><td>@drgrist's excellent take on why even environmental economics limits our climate change policy options http://bit.ly/cK5R26 #climate #agw</td><td>1</td><td>1.0</td></tr><tr><td>@foxandfriends global warming is like the goldman execs... full of sh*t</td><td>0</td><td>0.0</td></tr><tr><td>@freedom4USA Well, Thank God for Global Warming or Washington would get more snow.</td><td>1</td><td>1.0</td></tr><tr><td>@gavatron rain in the north pole! Is that, do you think, another sign of global warming?</td><td>1</td><td>1.0</td></tr><tr><td>@gounian Thanks I agree! It is sad that many are unwilling to accept the truth of climate change.</td><td>1</td><td>1.0</td></tr><tr><td>@jbg7474 Further, it's not 2 scientists disagreeing. The *vast* majority of scientists accepts the reality of climate change.</td><td>1</td><td>1.0</td></tr><tr><td>@metfan722 global warming has been highly overrated south of NYC this year which is EXTREMELY rare.</td><td>1</td><td>1.0</td></tr><tr><td>@mimidancer just because it also gets colder doesn't mean it's not global warming first off.  Secondly, I approve of #hoth.</td><td>1</td><td>1.0</td></tr><tr><td>@pdigaudio That darn Global Warming!</td><td>1</td><td>1.0</td></tr><tr><td>@peterdaou Who are the 'political elites'? Editors of the Times shilling for Bush on Iraqi WMD? Members of Congress denying climate change?</td><td>1</td><td>1.0</td></tr><tr><td>@prismsinc Worlds Greenest Celebrity: Limos, Pilots & Mansions, Oh My #global warming #climate change #green #eco http://bit.ly/9yiahH</td><td>1</td><td>1.0</td></tr><tr><td>@szach87129 Oh, the humanity! Global warming is destroying Los Angeles! #climate changehttp://bit.ly/cuepQb</td><td>1</td><td>1.0</td></tr><tr><td>@tasha9698 Yikes...sounds rough..has it always been like that...or is it part of Global warming that's occurring?</td><td>1</td><td>0.0</td></tr><tr><td>@thigpensrevenge it's the global warming gods jo. everything's all whacked up and around and inside out and upside down</td><td>0</td><td>0.0</td></tr><tr><td>@winners50 What if I don't want 10,000 clicks per day? What if I want world peace and an end to global warming? Where do I go for that?</td><td>1</td><td>1.0</td></tr><tr><td>A new federal agency to study global warming?? Just stop already!</td><td>0</td><td>1.0</td></tr><tr><td>A preliminary analysis suggests that natural gas could contribute far more to global warming than previously thought. [link]</td><td>1</td><td>1.0</td></tr><tr><td>AMERICAblog News: Right-wingers already claiming that the blizzard proves climate change doesn't ... http://is.gd/85ToG (via @thejoshuablog)</td><td>1</td><td>1.0</td></tr><tr><td>Abu Dhabi faces climate change flood threat - expert - Culture & Society - Arabia.. [link]</td><td>1</td><td>1.0</td></tr><tr><td>According to @newtgingrich it's snowing so Al Gore must be fat or something. It's GLOBAL CLIMATE CHANGE. You might want to look that up.</td><td>1</td><td>0.0</td></tr><tr><td>Acidic oceans worsening, experts warn - Climate Change- msnbc.com http://retwt.me/1MVNU (via @savemyearth)</td><td>1</td><td>1.0</td></tr><tr><td>Activist Duchess of York speaks out on global warming, Royal marriages and TV shows http://nxy.in/8pp0w</td><td>1</td><td>1.0</td></tr><tr><td>Addressing Global Warming: Retrain Coal Workers for Green Jobs http://bit.ly/bLcqDu</td><td>1</td><td>1.0</td></tr><tr><td>Addressing Global Warming: Retrain Coal Workers for Green Jobs: A perfect storm of factors are massing against con... http://bit.ly/9DohKw</td><td>1</td><td>1.0</td></tr><tr><td>Africa: Continent Gets U.S.$29.72 Billion to Combat Climate Change: Developed countries have set asid... http://tinyurl.com/ygynf5c #Africa</td><td>1</td><td>1.0</td></tr><tr><td>African Meteorology Services Gear Up for Climate Change. (america.gov) #IRI [link]</td><td>1</td><td>1.0</td></tr><tr><td>After blizzard, Mid-Atlantic states targeted for several more inches of global warming. http://usat.me?37459708 #tcot #teaparty #gop</td><td>1</td><td>1.0</td></tr><tr><td>Al Gore preached his climate change, he wanted us all 2 CARE, but after all was said & done, the evidence wasn't THERE #libpoems #tcot #sgp</td><td>0</td><td>0.0</td></tr><tr><td>Al Gore preached his climate change, he wanted us all 2 CARE, but after all was said & done, the evidence wasn't THERE #libpoems #tcot #sgp</td><td>0</td><td>0.0</td></tr><tr><td>Al Gore should be arrested for Global Warming Scam, how much did AL take in$$$$$$$$$$ forget the snow ball, hit him with a shovel</td><td>0</td><td>0.0</td></tr><tr><td>Alexi @Giannoulias believes in putting a price on global warming pollutants to spur development of alternative technology #p2 #ilsen</td><td>1</td><td>1.0</td></tr><tr><td>Alexia Parks: Global Warming of the Heart: Earth Day is over. Or is it? Thousands -- perhaps millions -- of consc... http://huff.to/9Xw7kP</td><td>1</td><td>1.0</td></tr><tr><td>Alexia Parks: Global Warming of the Heart: Earth Day is over. Or is it? Thousands -- perhaps millions -- of consc... http://huff.to/bzVUns</td><td>0</td><td>1.0</td></tr><tr><td>Alexia Parks: Global Warming of the Heart|Earth Day is over. Or is it? Thousands of conscious actions took place .. [link]</td><td>1</td><td>1.0</td></tr><tr><td>All 30 Major League Baseball Teams Throw Curve to Climate Change Deniers [link]</td><td>1</td><td>1.0</td></tr><tr><td>Allergies Worse Than Ever? Blame Global Warming (Time.com)http://bit.ly/cWRRmi</td><td>1</td><td>1.0</td></tr><tr><td>Allergies Worse Than Ever? Blame Global Warming [link]</td><td>1</td><td>1.0</td></tr><tr><td>Allergies really bad this season? You should blame Global Warming - http://bit.ly/c7z75N [via @TIME]</td><td>1</td><td>1.0</td></tr><tr><td>Alternative futures of a warming world: Potential human responses to climate change will be integrated into future... http://bit.ly/b8o5m0</td><td>1</td><td>1.0</td></tr><tr><td>Americans Dont Give A **** About Global Warming, Survey Says: Retail investors from cities other than in the US fe... http://bit.ly/aIPLJY</td><td>0</td><td>1.0</td></tr><tr><td>Amsterdam- Business leaders convene to address global climate change | Humani.. http://retwt.me/1MZXI (via @HumanityNews)</td><td>1</td><td>1.0</td></tr><tr><td>Another 20 in. of snow possible. Who Dat say there's global warming? http://bit.ly/baPDnN #tcot  #globalwarming</td><td>0</td><td>0.0</td></tr><tr><td>Another DC blizzard?! Yet another consequence of global warming.</td><td>1</td><td>0.0</td></tr><tr><td>Arctic Beauty in Black and White: Alaska Before the Effects of Global Warming [Slide Show]:  Toward the end of Wor... [link]</td><td>1</td><td>1.0</td></tr><tr><td>Arctic Ice Loss Accelerating Global Warming: Research: TopNews New Zealand Global warming may be getting worse tha... [link]</td><td>1</td><td>1.0</td></tr><tr><td>Arctic adventurers get set to study climate change http://bit.ly/bKSe0d</td><td>1</td><td>1.0</td></tr><tr><td>Arctic climate changing faster than expected-study: WINNIPEG, Manitoba (Reuters) - Climate change is transforming ... http://bit.ly/ag23Bo</td><td>1</td><td>1.0</td></tr><tr><td>Arctic rain in April 'is sign of global warming'|The Canadian Arctic has been hit by rain in a sign that the .. http://oohja.com/xbPyL</td><td>1</td><td>1.0</td></tr><tr><td>Are you ready for the climate change? PLI is with Environmental Regulation & Commercial Implications 2010: How the... [link]</td><td>1</td><td>1.0</td></tr><tr><td>As Sea Level Rises So Does The Level Of Climate Change Denial http://shar.es/aLckR via @sharethis</td><td>1</td><td>1.0</td></tr><tr><td>Ask Pablo: What Impact Will The Volcano In Iceland Have On Climate Change? http://bit.ly/bZ4FQJ</td><td>1</td><td>1.0</td></tr><tr><td>At the #PEN talk on climate at Met. @Revkin offers a useful note of realism. Climate change is in our heads-and we need to change our heads</td><td>0</td><td>1.0</td></tr><tr><td>Attractive Nuisance: Should Judges Help Tackle Climate Change? - http://is.gd/bFs5D</td><td>1</td><td>1.0</td></tr><tr><td>BBC Worldnews 8-part series on cities and climate change http://ow.ly/1AXou (via @stephhicks @kaskadia @sejorg @ClimateCentral)</td><td>1</td><td>1.0</td></tr><tr><td>BBC lectures us incessantly on climate change. So why did their bosses make 68,0.. http://retwt.me/1MXRQ (via @KOSMOSNET)</td><td>0</td><td>1.0</td></tr><tr><td>BRKG NEWS: UN Climate Change panel gets F from scientists, announces it will rehabilitate itself by suing Iceland over volcanic eruption.</td><td>0</td><td>1.0</td></tr><tr><td>BYU scientists refute Utah committee's global warming assertations|State lawmakers are finding themselves in an .. http://oohja.com/x6uQM</td><td>0</td><td>0.0</td></tr><tr><td>Birds in southern England suffer from global warming http://bit.ly/aPezr3</td><td>1</td><td>1.0</td></tr><tr><td>Blame the volcano trouble on sun and global warming [link]</td><td>1</td><td>1.0</td></tr><tr><td>Blame the volcano trouble on sun and global warming http://bit.ly/aVwFKq #science</td><td>1</td><td>1.0</td></tr><tr><td>Blizzard in DC called snowpocalypse. Verizon guy told me 30 inches coming out where I live. Huh? Deep fodder for #climate change denialists?</td><td>0</td><td>0.0</td></tr><tr><td>Bolivia 'people's conference' calls for system change, not climate change | Grist http://retwt.me/1MYm1 (via @GroenWerkt)</td><td>1</td><td>1.0</td></tr><tr><td>Bolivia Climate Summit, April 19-22: US Slaps Bolivia and Ecuador slicing millions of dollars in climate change fu... http://bit.ly/d2uz1o</td><td>1</td><td>1.0</td></tr><tr><td>Bolivia climate conference demands $300B to combat global warming, creation of climate court|TIQUIPAYA, Bolivia - .. http://oohja.com/xbroL</td><td>1</td><td>1.0</td></tr><tr><td>Bolivia global warming summit: a lifeline for 'Mother Earth ...: Bolivia seeks to combat global warming after worl... http://bit.ly/aYkzJU</td><td>1</td><td>0.0</td></tr><tr><td>Bonn to Cancun'Negotiators Agree to Continue Efforts on International Global ...: The first global warming negotia... http://bit.ly/9Jreep</td><td>1</td><td>0.0</td></tr><tr><td>Brilliant: 'Vagina Monologues' Creator Tells Palin to Look at 'Earthquakes and Tsunamis' for Global Warming Proof http://bit.ly/aZ0Mbu</td><td>1</td><td>1.0</td></tr><tr><td>Brilliant: 'Vagina Monologues' Creator Tells Palin to Look at 'Earthquakes and Tsunamis' for Global Warming Proof http://ow.ly/16xANa</td><td>1</td><td>1.0</td></tr><tr><td>Buying carbon offsets may ease eco-guilt but not global warming http://bit.ly/conBCO</td><td>1</td><td>1.0</td></tr><tr><td>Buying carbon offsets may ease eco-guilt but not global warming: [link]</td><td>1</td><td>1.0</td></tr><tr><td>C3: New Mexico's Democrats/Liberals Push Global Warming ...: Read here. Despite the US government temperature data... http://bit.ly/9Ll4YC</td><td>0</td><td>0.0</td></tr><tr><td>CBS: Global Warming Science Sound, ClimateGate Just a PR Problem http://ow.ly/16vzpO</td><td>1</td><td>1.0</td></tr><tr><td>CH-180c - Calendar - Global Warming and Liberalism not about having a calendar about making a statement! http://bit.ly/bfoaod</td><td>0</td><td>0.0</td></tr><tr><td>CLIMATE CHANGE: Forests Not for Absorbing Carbon, Say Activists [link]</td><td>1</td><td>1.0</td></tr><tr><td>CLIMATE CHANGE: Forests Not for Absorbing Carbon, Say Activists http://bit.ly/bRHMYi IPSAmazon</td><td>1</td><td>1.0</td></tr><tr><td>CLIMATE CHANGE: Forests Not for Absorbing Carbon, Say Activists http://bit.ly/cEX69x</td><td>1</td><td>1.0</td></tr><tr><td>CLIMATE CHANGE: Forests Not for Absorbing Carbon, Say Activists http://bit.ly/cEX69x</td><td>1</td><td>1.0</td></tr><tr><td>CODA Automotive Lauded for Innovation and Technology Efforts to Combat Climate Change and Air Pollution http://goo.gl/fb/AQRum</td><td>1</td><td>1.0</td></tr><tr><td>COW FARTS EXONERATED FROM GLOBAL WARMING http://bit.ly/ddsHDe Al Gore sighs HUGE relief....from his rectum #cbiz #tcot #sgp #teaparty #ucot</td><td>0</td><td>0.0</td></tr><tr><td>COW FARTS EXONERATED FROM GLOBAL WARMING http://bit.ly/ddsHDe Al Gore sighs HUGE relief....from his rectum #cbiz #tcot #sgp #teaparty #ucot</td><td>0</td><td>0.0</td></tr><tr><td>CST: A Lack Of Air Pollution Is Bad For Global Warming? ��_ Pirate's ... [link]</td><td>1</td><td>1.0</td></tr><tr><td>California Teamsters oppose effort to delay global warming measure|The group is the first major union to .. http://oohja.com/xbAaS</td><td>1</td><td>1.0</td></tr><tr><td>Can Federal Courts help tackle Global Warming? http://bit.ly/bvu0pv [via @Slate] #eco</td><td>1</td><td>1.0</td></tr><tr><td>Can Global Warming Give You Kidney Stones? How Will Insurance Companies Deal With Rising Temperatures?: It's true... http://huff.to/brgCIm</td><td>1</td><td>1.0</td></tr><tr><td>Can a Book on Geoengineering Change the Climate Conversation? http://goo.gl/fb/6I5xc #cleantech</td><td>1</td><td>1.0</td></tr><tr><td>Can you hedge against climate change? Read this http://ow.ly/1BeAA @FelixSalmon post. Then look at our weather products http://ow.ly/1BezL</td><td>1</td><td>1.0</td></tr><tr><td>Can't believe that people think excess snow makes global warming a non-reality... wow, read some books!</td><td>1</td><td>1.0</td></tr><tr><td>Carbon in warming soil could accelerate climate change: Study http://bit.ly/aVP2gd</td><td>1</td><td>1.0</td></tr><tr><td>Certainty on the Science of Climate Change: 'A wait-and-see policy,' on climate change, observed Center for Americ... http://bit.ly/crQW9x</td><td>1</td><td>1.0</td></tr><tr><td>Chaotic climate threatens food security|VietNamNet Bridge ? Worsening impacts of climate change including intense .. http://oohja.com/xc5vR</td><td>1</td><td>1.0</td></tr><tr><td>Chavez Blames Venezuela's Inability To Meet Basic Human Needs On El Nino And Global Warming by @vincefernando http://bit.ly/dfWkxM</td><td>1</td><td>1.0</td></tr><tr><td>Check out Climate Desk, an interesting new collaboration dedicated to reporting on climate change:  http://bit.ly/dAsx5m</td><td>1</td><td>1.0</td></tr><tr><td>China announces pledge to curb carbon emissions | Climate Change http://retwt.me/1LUxC (via @ecoactions)</td><td>1</td><td>1.0</td></tr><tr><td>Climate Change - 100 Endangered Places and How to Save Them - Newsweek http://ff.im/-iVsBt</td><td>1</td><td>1.0</td></tr><tr><td>Climate Change - 100 Endangered Places and How to Save Them - Newsweek http://retwt.me/1MNMY (via @meganurupo)</td><td>1</td><td>1.0</td></tr><tr><td>Climate Change Continues To Melt Glacier National Park's Icons | National P.. [link]</td><td>1</td><td>1.0</td></tr><tr><td>Climate Change Continues To Melt Glacier National Park's Icons | National P.. http://retwt.me/1MNUL (via @nat_parks_news)</td><td>1</td><td>1.0</td></tr><tr><td>Climate Change Debate Climatologists Weather Meteorologists ...: Many Television Weather Forecasters Doubt Global ... http://bit.ly/cmITvA</td><td>0</td><td>1.0</td></tr><tr><td>Climate Change Freak http://trim.li/nk/1H8R via @WiretapMagazine</td><td>1</td><td>1.0</td></tr><tr><td>Climate Change Impacts And Vulnerability In The Eastern Himalayas http://bit.ly/cDR9xJ</td><td>1</td><td>1.0</td></tr><tr><td>Climate Change Initiatives http://ow.ly/1zEjO</td><td>1</td><td>1.0</td></tr><tr><td>Climate Change REgulation is ABSOLUTE POLITAICAL SUICIDE! REPORTS, SCIENCE & DATA ALL CONCUR THAT CLIMATE CHANGE IS IMAGINARY!</td><td>0</td><td>0.0</td></tr><tr><td>Climate Change Still Ranks As Top Global Issue http://bit.ly/9DbEv4</td><td>1</td><td>1.0</td></tr><tr><td>Climate Change Watch India: Violation of Pollution and Environment ... http://bit.ly/ahG2tK</td><td>1</td><td>1.0</td></tr><tr><td>Climate Change Worldviews http://bit.ly/crNvZ3</td><td>1</td><td>1.0</td></tr><tr><td>Climate Change is Forcing Arctic Changes Faster than Expected: To be more specific, it causing changes in the Arct... http://bit.ly/99EpGQ</td><td>1</td><td>1.0</td></tr><tr><td>Climate Change-ing your Allergies [link]</td><td>1</td><td>1.0</td></tr><tr><td>Climate Change: Global hoax? http://bte.tc/ayxx #RTW</td><td>0</td><td>0.0</td></tr><tr><td>Climate Change: Places To See Before They Disappear��_The Americas (Photos) [link]</td><td>1</td><td>1.0</td></tr><tr><td>Climate change affects subterranean ecosystems|Changes above the ground, such as a higher concentration of carbon .. http://oohja.com/xc5Mz</td><td>1</td><td>1.0</td></tr><tr><td>Climate change and human health studied: BETHESDA, Md., April 22 (UPI) -- The US National Institutes of Health say... http://bit.ly/dvzWKl</td><td>1</td><td>1.0</td></tr><tr><td>Climate change and our identity http://bit.ly/cZa58u</td><td>1</td><td>1.0</td></tr><tr><td>Climate change blamed as coastal whale migration dwindles ��_ Ventura County.. [link]</td><td>1</td><td>1.0</td></tr><tr><td>Climate change blamed as coastal whale migration dwindles ��_ Ventura County.. [link]</td><td>1</td><td>1.0</td></tr><tr><td>Climate change could raise cost of U.S. allergies (Reuters) [link]</td><td>1</td><td>1.0</td></tr><tr><td>Climate change has high costs and very distributed benefits</td><td>1</td><td>1.0</td></tr><tr><td>Climate change helps invasive plants become more destructive- Hindustan Times http://retwt.me/1LVx7 (via @Indiaclimate)</td><td>1</td><td>1.0</td></tr><tr><td>Climate change increases heat waves, floods: EPA: WASHINGTON (Reuters) - Deaths from heat waves, property da... http://tinyurl.com/2wry7p2</td><td>1</td><td>1.0</td></tr><tr><td>Climate change is not an environmental issue - SWEDEN.SE http://retwt.me/1LSSl (via @swedensustblog)</td><td>0</td><td>1.0</td></tr><tr><td>Climate change is transforming the Arctic environment faster than expected & accelerating the disappearance of sea ice: http://bit.ly/afeLtO</td><td>1</td><td>1.0</td></tr><tr><td>Climate change movement dead? http://bit.ly/9clxKG</td><td>0</td><td>1.0</td></tr><tr><td>Climate change will mk the world more fragrant, as warming temperatures mk plants release more chems http://bit.ly/dw6wQq (via @bbcscitech)</td><td>1</td><td>1.0</td></tr><tr><td>Climate change, green energy talks on tap at Earth Day events: The Farmington Community Library is embracing the t... http://bit.ly/cl5DmK</td><td>1</td><td>1.0</td></tr><tr><td>Climate change, pollution are suspects in rusty blackbirds' plummeting numbers ' Dallas Morning Ne... http://ow.ly/1ofJJ1 (via @SwampSchool)</td><td>1</td><td>1.0</td></tr><tr><td>Climate change: http://tinyurl.com/rockclimbpolarbear -- he's a cutie; evolution is already starting..slowly. #polarbears</td><td>1</td><td>1.0</td></tr><tr><td>Climate-Change Cover-Up Down Under http://on.wsj.com/9oLe9G</td><td>1</td><td>0.0</td></tr><tr><td>Climate-change legislation dying under record DC snowfall http://bit.ly/9ifxtg</td><td>0</td><td>0.0</td></tr><tr><td>Climbing Out Of The Dark: Social Justice Replaces Global Warming!: Climate change hanging on by it's fingernails. ... http://bit.ly/aqe34x</td><td>0</td><td>1.0</td></tr><tr><td>Coalition of the Tired of Waiting: Fighting Climate Change at Ground Level [link]</td><td>1</td><td>1.0</td></tr><tr><td>Coalition of the Tired of Waiting: Fighting Climate Change at Ground Level [link]</td><td>1</td><td>1.0</td></tr><tr><td>Coalition of the Tired of Waiting: Fighting Climate Change at Ground Level http://bit.ly/97DPXg</td><td>1</td><td>1.0</td></tr><tr><td>Cochabamba Summit Offers New Approach to Combating Climate Change http://bit.ly/btb7jh</td><td>0</td><td>1.0</td></tr><tr><td>Combating climate change: lessons from the world's indigenous peoples: When I arrived at the United Nations climat... [link]</td><td>1</td><td>1.0</td></tr><tr><td>Combating climate change: lessons from the world's indigenous peoples: When I arrived at the United Nations climat... http://bit.ly/aYcViw</td><td>1</td><td>1.0</td></tr><tr><td>Commentary: The Case For Climate Change Must Be Remade From The Ground Upwards|Intellpuke: This commentary was .. http://oohja.com/x6EUr</td><td>1</td><td>1.0</td></tr><tr><td>Concisely put. RT @lauraolin:A link to send all the idiots who think this year's storms mean global warming is a farce: http://bit.ly/6ocFSK</td><td>1</td><td>0.0</td></tr><tr><td>Conference at Tom Ridge Environmental Center focuses on climate change: By DANA MASSING More than 80 representativ... http://bit.ly/a4KEQI</td><td>1</td><td>1.0</td></tr><tr><td>Conservationist: Colo. sees climate change effects - The Denver Post http://retwt.me/1LVbA (via @denverpost)</td><td>1</td><td>1.0</td></tr><tr><td>Cool it, global warming is bad enough without you heating things up.|In the interest of honest discussion, can we .. http://oohja.com/xb9Ck</td><td>1</td><td>1.0</td></tr><tr><td>Crippled By Blizzard, DC Announces New Global Warming Agency by Phone http://bit.ly/adkfNW  #tcot #ocra</td><td>1</td><td>0.0</td></tr><tr><td>Cut Global Warming ' Blog Archive ' Climategate: global warming ...: Phil Jones will be vindicated by 'rock solid'... http://bit.ly/culHfn</td><td>1</td><td>0.0</td></tr><tr><td>D.C. Snowstorm: How Global Warming Makes Blizzards Worse http://bit.ly/aMGM77</td><td>1</td><td>1.0</td></tr><tr><td>DC rally April 25 http://bit.ly/cwUzaA to set the stage for Senate unveiling of new #climate change bill http://nyti.ms/csrxPR</td><td>1</td><td>1.0</td></tr><tr><td>DC: *FT Work for Greenpeace to STOP GLOBAL WARMING - $12-$13/hr*:Get Involved! Call now 202-595-3368 Greenpeace... [link]</td><td>1</td><td>0.0</td></tr><tr><td>DHS: Fossil Fuels and Climate Change are 'National Threats' http://bit.ly/dlQgDY #TCOT #RS</td><td>1</td><td>1.0</td></tr><tr><td>DK Matai: Are Global Warming, Volcanoes and Earthquakes Linked?: A thaw of ice caps in coming decades caused by g... http://huff.to/avcX6b</td><td>1</td><td>1.0</td></tr><tr><td>Damn global warming-melting the ice caps, turning DC into the tundra. This winter is DONE! Please don't mess my summer...please.</td><td>1</td><td>1.0</td></tr><tr><td>Damn supposedly global warming is intensifying this winter weather....Chicago having earthquakes somethings going on...</td><td>1</td><td>1.0</td></tr><tr><td>Deforestation can increase the global warming impacts on the earth http://tinyurl.com/yf2np2u</td><td>1</td><td>1.0</td></tr><tr><td>Demand Congress take action on climate change. Pls sign the petition. [link]</td><td>1</td><td>1.0</td></tr><tr><td>Denial of global warming threat to the American pika means no protection from U.S. http://bit.ly/cLB8VF</td><td>1</td><td>1.0</td></tr><tr><td>Denis Hayes, founder of Earth Day, compares global climate change to Irish Famine (IrishCentral) News Weather Politics [link]</td><td>1</td><td>1.0</td></tr><tr><td>Despite Climategate, LEFT investing heavily in global warming hysteria as new way 2 impose nat'l & international controls on human freedom.</td><td>1</td><td>0.0</td></tr><tr><td>Developing nations: Climate change treaty in 2010 (AP) | Humanitarian News http://retwt.me/1MXPf (via @NewsOnGreen)</td><td>1</td><td>1.0</td></tr><tr><td>Digg: Is climate change hiding the decline of maple syrup? http://bit.ly/cXAjme</td><td>1</td><td>1.0</td></tr><tr><td>Diigo: RealClearPolitics - How Climate-Change Fanatics Corrupted Science: Tags: Ecomental Posted by: loseaneye http://bit.ly/dCqOnS</td><td>0</td><td>0.0</td></tr><tr><td>Do we need more snowstorms to convince skeptics that global warming is for real!  #global-warming http://icio.us/oxo4mw</td><td>1</td><td>1.0</td></tr><tr><td>Do you agree?  Lawmaker: Climate change just ruse to control population -http://bit.ly/cV92QG</td><td>0</td><td>0.0</td></tr><tr><td>Don Blankenship Calls Efforts On Mine Safety Regulation 'As Silly As Global Warming': At his Labor Day anti-union... http://huff.to/9T3pkh</td><td>0</td><td>0.0</td></tr><tr><td>Don't be swayed by distraction of climate change, treat Earth responsibly. #EarthDay</td><td>0</td><td>1.0</td></tr><tr><td>Due to snow of course RT @Drudge_Report    Senate global warming hearing cancelled... http://drudge.tw/dyAWzC</td><td>0</td><td>0.0</td></tr><tr><td>Due to the snow (aka, global warming), Starbucks near me ran out of coffee!! What?!?</td><td>1</td><td>0.0</td></tr><tr><td>E.P.A. Makes Its Case on Climate Change: The E.P.A. releases a glossy report to help Americans make sense of clima... http://bit.ly/cPdG4r</td><td>1</td><td>1.0</td></tr><tr><td>ENVIRONMENT: Climate of change: From something as simple as reminding computer users to power down when not workin... http://bit.ly/duQAk9</td><td>1</td><td>1.0</td></tr><tr><td>EPA Climate Change Indicators Report Shows the Evidence of Global Warming All ...: Natural Resources Defense Counc... [link]</td><td>1</td><td>0.0</td></tr><tr><td>EPA Climate Change Indicators Report Shows the Evidence of Global Warming All ...: Natural Resources Defense Counc... http://bit.ly/abm7iZ</td><td>1</td><td>1.0</td></tr><tr><td>EPA can't finish their report on Global Warming because it was there is too much snow to go to work.</td><td>1</td><td>0.0</td></tr><tr><td>Eaarth: global warming is here to stay, how will we deal with it? [link]</td><td>1</td><td>1.0</td></tr><tr><td>Earth Day at 40: The Politics Finally Erupt: http://www.care2.com/causes/global-warming/blog/earth-day-at-40-the-politics-finally-erupt/</td><td>1</td><td>0.0</td></tr><tr><td>Earth Day report: climate change is endangering our health: http://ping.fm/gJLKg</td><td>1</td><td>1.0</td></tr><tr><td>Earth's polar ice sheets vulnerable to even moderate global warming; New Orleans, much of southern F... http://cli.gs/yEg8T</td><td>1</td><td>1.0</td></tr><tr><td>East Anglia uni climate change email report clears them of any wrongdoing. The 1st mention of climate change since the election was called.</td><td>1</td><td>1.0</td></tr><tr><td>Economic and Social Consequences of Global Warming http://bit.ly/d0k9N6 association of british insurers ;O</td><td>1</td><td>1.0</td></tr><tr><td>Economics Must Align with Climate Change http://bit.ly/boCsqs #energy</td><td>1</td><td>1.0</td></tr><tr><td>EdDriscoll: RT @robport: Time to admit it. Climate change is a conservative conspiracy to keep' http://goo.gl/fb/YTii</td><td>0</td><td>1.0</td></tr><tr><td>Effort underway to suspend California's global-warming law http://dlvr.it/1Q3x</td><td>0</td><td>0.0</td></tr><tr><td>Enlisting a drug discovery technique in the battle against global warming http://bit.ly/byzkWv #climate</td><td>1</td><td>1.0</td></tr><tr><td>Enviro:  European Space Agency launches satellite to check climate change.. see blast-off!=&gt;  http://ow.ly/1xaGk</td><td>1</td><td>1.0</td></tr><tr><td>Ethiopia: Climate Change Increasing Poverty And Vulnerability [link]</td><td>1</td><td>1.0</td></tr><tr><td>Evo Morales Opens Climate Change Conference in Tiquipaya http://bit.ly/cq8e0k</td><td>1</td><td>1.0</td></tr><tr><td>Exclusive: Climate change could raise cost of U.S. allergies| Reuters [link]</td><td>1</td><td>1.0</td></tr><tr><td>Exclusive: Climate change could raise cost of U.S. allergies| Reuters http://retwt.me/1MPF2 (via @healthfreaks)</td><td>1</td><td>1.0</td></tr><tr><td>Explorer to discuss global warming: Renowned polar explorer and adventurer Will Steger will present a free program... http://bit.ly/b4xymI</td><td>1</td><td>1.0</td></tr><tr><td>Ezra Klein - Sen. Lindsey Graham: 'I care equally about immigration and climate change': [link]</td><td>1</td><td>0.0</td></tr><tr><td>FUCK LINDSAY GRAHAM, RINO, 4 PULLING OuT OF CLIMATE CHANGE REGULATION! DICKHEAD KNEW IT WAS DEAD! Any excuse to abandon support!</td><td>1</td><td>0.0</td></tr><tr><td>Fabricated quote used to discredit climate scientist - Climate Change, Environment - The Independent http://retwt.me/1LXT2 (via @i_buy_eco)</td><td>0</td><td>1.0</td></tr><tr><td>Fancy working on the UK's coolest climate change campaign? We've got some internships waiting to be filled http://bit.ly/bH8iWy #1010</td><td>1</td><td>1.0</td></tr><tr><td>Farmers at the frontline of climate change http://xrl.us/bhg8dv</td><td>1</td><td>1.0</td></tr><tr><td>Fear Of Flying: Climate Change And Air Travel | Planetizen http://retwt.me/1MUOa (via @thegoodhuman)</td><td>1</td><td>1.0</td></tr><tr><td>Federal agency denies endangered species protections for tiny pika|Climate change might be hurting some .. http://oohja.com/x6oUC</td><td>1</td><td>1.0</td></tr><tr><td>Fight Climate Change From All Fronts: [link]</td><td>1</td><td>1.0</td></tr><tr><td>Fight Climate Change From All Fronts: [link]</td><td>1</td><td>1.0</td></tr><tr><td>Fight Climate Change From All Fronts: http://is.gd/biT49 #climatechange #SaveTerra 4</td><td>1</td><td>1.0</td></tr><tr><td>Fighting poverty and global warming in Africa [link]</td><td>1</td><td>1.0</td></tr><tr><td>Filmmaker Travels The Globe To Find People Fighting Climate Change ... [link]</td><td>1</td><td>1.0</td></tr><tr><td>Foes of California's global warming law pour money into a campaign to delay it http://lat.ms/cwIF6b</td><td>0</td><td>1.0</td></tr><tr><td>For #EarthDay Global warming could affect patient symptoms [link]</td><td>1</td><td>1.0</td></tr><tr><td>For Earth Day: Resources on coping with climate change: [link]</td><td>1</td><td>1.0</td></tr><tr><td>For Greenpeace, 'Cool IT' means sensitivity to climate change, and Cisco is now tops: I know so... http://bit.ly/9vFxAk #greentech #greenit</td><td>1</td><td>1.0</td></tr><tr><td>Freakonomics: A ClimateGate Victim, and the State of the Global-Warming Problem: A walk though the many angles at ... http://bit.ly/bL1FIp</td><td>0</td><td>0.0</td></tr><tr><td>Free Reading !!! Climate Change loonies ' Standard Examiner Blogs: Still, the letters from tho... http://bit.ly/ca7Z8L mypsychicsonline.inf</td><td>0</td><td>0.0</td></tr><tr><td>Fuck Lindsay Graham & John Kerry on the Climate Change Law! Have they not been Reading the Astute Reaffirmations that it is BUNK SCIENCE?!</td><td>0</td><td>0.0</td></tr><tr><td>GECKO 10 first steps to greener living: It all seems so daunting: Climate change. Carbon credits. Not to mention ... http://qd6yo.tk GECKO</td><td>1</td><td>1.0</td></tr><tr><td>Gagnon, like most liberals you have been duped by the global warming, socialist propaganda. http://bit.ly/ap10io</td><td>0</td><td>0.0</td></tr><tr><td>GayandRight: Global warming kills livestock in Mongolia....: Aid groups have described piles of dead animals and w... http://bit.ly/ddMOY0</td><td>1</td><td>1.0</td></tr><tr><td>Gazelle Emami: '70 Million Tons' Tackles Climate Change With Comedy: The premise of 70 Million Tons, an off-off B... http://huff.to/9viVef</td><td>1</td><td>1.0</td></tr><tr><td>George Perkins: Clean Energy Jobs Act vital to reduce global warming, create jobs, cut pollution|Dear Editor: I .. http://oohja.com/x6CG5</td><td>1</td><td>1.0</td></tr><tr><td>Glacier Responses to Climate Change are Complex, as are the Impacts | Humanitarian News http://retwt.me/1LUQA (via @HumanityNews)</td><td>1</td><td>1.0</td></tr><tr><td>Global Warming 'at Point of No Return': Global warming has reached the point of no return, a study published in th... [link]</td><td>1</td><td>0.0</td></tr><tr><td>Global Warming 'at Point of No Return': Global warming has reached the point of no return, a study published in th... http://bit.ly/ddCDeo</td><td>1</td><td>1.0</td></tr><tr><td>Global Warming Baloney: According to the experts at NASA, the difference between weather and climate is a measure ... http://bit.ly/bnRDwH</td><td>1</td><td>0.0</td></tr><tr><td>Global Warming Causes Earthquakes. Suuuuure it does. http://bit.ly/cNxTud #TCOT</td><td>0</td><td>0.0</td></tr><tr><td>Global Warming Causes Volcano Eruptions -- By: Jonah Goldberg: From Reuters: OSLO (Reuters) - A thaw of Iceland's... http://bit.ly/dqvsYV</td><td>1</td><td>1.0</td></tr><tr><td>Global Warming Contributes To Rapidly Increased Ocean Acidification: The US National Research Council warned last ... http://bit.ly/bUwIcJ</td><td>1</td><td>1.0</td></tr><tr><td>Global Warming Dent's El Ni'o's Protective Shield From Atlantic Hurricanes, Increase Droughts http://cli.gs/LEnPp</td><td>1</td><td>1.0</td></tr><tr><td>Global Warming Kills Forests In Colorado http://bit.ly/coOWIt</td><td>1</td><td>1.0</td></tr><tr><td>Global Warming Makes Trees Grow Faster http://bit.ly/aT4B32</td><td>1</td><td>1.0</td></tr><tr><td>Global Warming My Ass!!!! Fuck You  AL Gore</td><td>0</td><td>0.0</td></tr><tr><td>Global Warming Wont Melt Ignorance stake  :)</td><td>1</td><td>1.0</td></tr><tr><td>Global Warming, Melting Ice Caps Could Help Trigger More Volcanic Eruptions [link]</td><td>1</td><td>1.0</td></tr><tr><td>Global Warming, Melting Ice Caps Could Help Trigger More Volcanic Eruptions http://bit.ly/aUBHb3</td><td>1</td><td>1.0</td></tr><tr><td>Global Warming, Melting Ice Caps Could Help Trigger More Volcanic Eruptions... [link]</td><td>1</td><td>1.0</td></tr><tr><td>Global Warming:  Next Chapter http://96wdl.tk EnvNewsNet</td><td>1</td><td>1.0</td></tr><tr><td>Global Warming: Climate Scientists Investigate Lost Heat: A new article in 'Science' explores the mystery of the g... http://bit.ly/b7cAt9</td><td>1</td><td>1.0</td></tr><tr><td>Global Warming?  Vostok Antarctica sits at -100F -- with lows forecast to -110F... http://bit.ly/96JtQu #breaking</td><td>0</td><td>1.0</td></tr><tr><td>Global warming alarmists have been discredited, but you wouldn't know it from the rhetoric this Earth Day. http://bit.ly/doS24K #agw</td><td>0</td><td>0.0</td></tr><tr><td>Global warming can be good for [link]</td><td>1</td><td>0.0</td></tr><tr><td>Global warming conference set Sunday|Robert Bullard, known as the \\Father of Environmental Justice,\\ is a .. http://oohja.com/xc5d9</td><td>1</td><td>1.0</td></tr><tr><td>Global warming could make world more 'fragrant': London, Feb 10 (ANI): A major scientific review has indicated tha... http://bit.ly/ahP2MR</td><td>1</td><td>1.0</td></tr><tr><td>Global warming crowd fears warming earth melting Big Rock Candy Mountain, raising sea's glucose. Skeptics say Mountain stickiness cyclical.</td><td>1</td><td>0.0</td></tr><tr><td>Global warming data saying glaciers to melt by 2035 proven false http://bit.ly/d2wxJ5 #News</td><td>0</td><td>1.0</td></tr><tr><td>Global warming deniers need to STFU. Climate change causes an increase in GLOBAL (not necessarily local) temps & larger storms. And oh look!</td><td>1</td><td>1.0</td></tr><tr><td>Global warming evidence all around us|A message to global warming deniers and doubters: Just look around our .. [link]</td><td>1</td><td>1.0</td></tr><tr><td>Global warming evidence all around us|A message to global warming deniers and doubters: Just look around our .. [link]</td><td>1</td><td>1.0</td></tr><tr><td>Global warming game shows importance of public pressure: THERE ARE detractors who disbelieve our world is experien... http://bit.ly/aqKTwX</td><td>1</td><td>1.0</td></tr><tr><td>Global warming hysteria presumes 3 things: 1 it exists, 2 it is man-made, 3 it is bad. All 3 must be true. This winter may prove all 3 false</td><td>0</td><td>0.0</td></tr><tr><td>Global warming in the hot seat|By Keith Yost STAFF COLUMNIST In November 2009, hackers released of thousands of .. http://oohja.com/x6qmR</td><td>0</td><td>0.0</td></tr><tr><td>Global warming is POUNDING the East coast with snow. Don't ask me how it works, I'm just reporting. #tcot, #right, #rightblogs, #teaparty</td><td>1</td><td>0.0</td></tr><tr><td>Global warming is killing Canadian wolverine http://bmpost.com/8751</td><td>1</td><td>1.0</td></tr><tr><td>Global warming is kinda blizzardy.</td><td>0</td><td>0.0</td></tr><tr><td>Global warming is man-made, top UN official reaffirms: LONDON, Feb 7 (APP)- The UK-based Association of Pakistan L... http://bit.ly/d0rdMY</td><td>1</td><td>1.0</td></tr><tr><td>Global warming is soo bad that i had the coolest summer ever..</td><td>0</td><td>0.0</td></tr><tr><td>Global warming may make cricket bats history: London: Cricket is facing a bizarre threat following a European Unio... [link]</td><td>1</td><td>1.0</td></tr><tr><td>Global warming means local storming http://bit.ly/d5mwF6</td><td>1</td><td>1.0</td></tr><tr><td>Global warming picking up steam, Obama top science adviser says: John P. Holdren, Obama's top science adviser, dis... http://bit.ly/ckAKgF</td><td>1</td><td>1.0</td></tr><tr><td>Global warming resp. for massive blizzards (Time) http://bit.ly/cgQGIv</td><td>1</td><td>1.0</td></tr><tr><td>Global warming threatens Armenia by 2C higher temperature [link]</td><td>1</td><td>1.0</td></tr><tr><td>Global warming threatens Ca Mau Province: CA MAU ��_ The southernmost province of Ca Mau was among localities most v... [link]</td><td>1</td><td>1.0</td></tr><tr><td>Global warming to impact wheat, rice production in India|Ludhiana, Apr 18 : Scarcity of water will have a serious .. [link]</td><td>1</td><td>1.0</td></tr><tr><td>Global warming to impact wheat, rice production in India|Ludhiana, Apr 18 : Scarcity of water will have a serious .. [link]</td><td>1</td><td>1.0</td></tr><tr><td>Global warming to impact wheat, rice production in India|Ludhiana, Apr 18 : Scarcity of water will have a serious .. http://oohja.com/xb60z</td><td>1</td><td>1.0</td></tr><tr><td>Global warming will make allergies worse for 25 million Americans, hitting those with asthma hardest: WWF (ClimateWire) #globalwarming</td><td>1</td><td>1.0</td></tr><tr><td>Global warming you tube explanation you will like #capandtrade #ocra http://is.gd/bLp94</td><td>1</td><td>1.0</td></tr><tr><td>Global warming you tube parody you will enjoy #IPCC #ocra http://bit.ly/bBGWhC</td><td>0</td><td>0.0</td></tr><tr><td>Global warming? Some folks just don't buy it: By Hillary Gavan Some were going to plant some flowers or trees, whi... http://bit.ly/9lHkeM</td><td>0</td><td>1.0</td></tr><tr><td>Global warming? Well, not exactly. As if we could tell anyway: OCRegister (blog) What a hoot when global warming a... http://bit.ly/9PKvc3</td><td>0</td><td>0.0</td></tr><tr><td>Go Green Toolshed ' Blog Archive ' NASA Global Warming Alarmist ... compliment</td><td>1</td><td>1.0</td></tr><tr><td>Got Allergies? -- By: Jonah Goldberg: Blame global warming. From Time magazine: Allergies Worse Than Ever? Blame ... [link]</td><td>1</td><td>1.0</td></tr><tr><td>Government Report Says Global Warming May Cause Cancer, Mental Illness [link]</td><td>1</td><td>1.0</td></tr><tr><td>Government Report Says Global Warming May Cause Cancer, Mental Illness.  CNSNews.com -  http://bit.ly/cDeYFt</td><td>1</td><td>1.0</td></tr><tr><td>Government Report Says Global Warming May Cause Cancer, Mental Illness: A new government report says global warmin... [link]</td><td>1</td><td>1.0</td></tr><tr><td>Government Report Says Global Warming to Cause Cancer, Mental Illness: CNSNews.com By Matt Cover, Staff Writer (CN... http://bit.ly/cGDR9K</td><td>1</td><td>1.0</td></tr><tr><td>Graham Threatens to Pull Energy Bill Sponsorship: Senator Lindsey Graham, a central architect of a climate change ... http://bit.ly/apKGSC</td><td>1</td><td>1.0</td></tr><tr><td>Graham's exit from talks puts climate change bill in limbo http://tinyurl.com/3y3mrsc</td><td>1</td><td>1.0</td></tr><tr><td>Great pic of weather caused by Global Warming alarmists! RT @dnoxon: RT @RoseD1st1: http://twitpic.com/11s6eq - Hell yes!</td><td>0</td><td>0.0</td></tr><tr><td>Great site for breaking news on climate change, the environment and other aspects of Earth's natural history: http://bit.ly/4owu72</td><td>1</td><td>0.0</td></tr><tr><td>Greenpeace - Making Waves: The Agreement of the People at the World People's Conference on Climate Change and the ... http://bit.ly/9UuKE6</td><td>1</td><td>1.0</td></tr><tr><td>Greenpeace claims big oil behind climate change skeptics | Humanitarian News http://retwt.me/1MNH9 (via @NewsOnGreen)</td><td>1</td><td>1.0</td></tr><tr><td>Gregory Unruh: Oven Dial or Light Switch: Carbon Lock-in and Abrupt Climate Change: Well over a decade ago, I bec... http://huff.to/ahlZmR</td><td>1</td><td>1.0</td></tr><tr><td>Grrrr...Global Warming My BUTT! 2nd MAJOR snowstorm within days!</td><td>0</td><td>0.0</td></tr><tr><td>Guest column, Elliott Denniston: What can we do about climate change? http://cli.gs/4t81q</td><td>1</td><td>1.0</td></tr><tr><td>HEALTH: U.S. and other industrial nations already feel impacts of climate change -- report [link]</td><td>1</td><td>1.0</td></tr><tr><td>Hard hitting documentry on climate change effects in Bolivia: http://bit.ly/dredC4</td><td>1</td><td>1.0</td></tr><tr><td>Having publicly bought the Global Warming lie some stay loyal, like Lindsay Graham. Others R paid by Al Gore or just stupid.</td><td>0</td><td>0.0</td></tr><tr><td>Health effects are a big deal. RT @EPSclimate: Impacts of Climate Change Extend to Human Health http://bit.ly/99jnIZ #moms #families #eco</td><td>1</td><td>1.0</td></tr><tr><td>Helping D.C. dig out from all the snow- I mean global warming we've got? RT @PepperScottie Where is Al Gore anyway? No where to be seen.</td><td>0</td><td>0.0</td></tr><tr><td>Hey #tcot, your frozen margarita may become endangered. RT @tlw3 FOX and NASA report on Global Climate Change http://bit.ly/cg4F59 #p2</td><td>0</td><td>1.0</td></tr><tr><td>Hibernating bear woken early by global warming?|15 April, 2010 - Nature conservation division (NCD) and forestry .. http://oohja.com/xaSJe</td><td>1</td><td>1.0</td></tr><tr><td>How Climate-Change Fanatics Corrupted Science -- Michael Barone -- GOPUSA - http://shar.es/aN0vU</td><td>0</td><td>0.0</td></tr><tr><td>How Is Denying New Info on Abstinence Any Different from Denying Climate Change?: It's been a bloody week in the c... http://bit.ly/blCOCs</td><td>1</td><td>1.0</td></tr><tr><td>How do we solve this global warming thing? [link]</td><td>1</td><td>1.0</td></tr><tr><td>How do we solve this global warming thing? [link]</td><td>1</td><td>1.0</td></tr><tr><td>How does co2 cause global warming? | Global Warming Cause: How does co2 cause global warming? why specifically is ... http://bit.ly/9L5JlS</td><td>1</td><td>0.0</td></tr><tr><td>How global warming makes bizzards WORSE! http://bit.ly/cLl6li #snowtorious #snowmageddon</td><td>1</td><td>1.0</td></tr><tr><td>How much has IPCC's reliance on 'grey literature' to advocate global warming cost business? Has policy uncertainty delayed economic growth?</td><td>0</td><td>0.0</td></tr><tr><td>How much trouble does global warming mean for agriculture? Just ask the wine industry. [link]</td><td>1</td><td>1.0</td></tr><tr><td>I believe that Global Warming is an international conspiracy perpetrated by GE in order to sell more air conditioners</td><td>0</td><td>0.0</td></tr><tr><td>I can practically hear all of the #climate change deniers frothing at the mouth over this snowstorm. So sad they confuse weather & climate.</td><td>1</td><td>0.0</td></tr><tr><td>I feel that already RT @organicnewyork Climate change making seasonal allergies worse. Near-record highs this Spring [link]</td><td>1</td><td>1.0</td></tr><tr><td>I hope this Global Warming/Climate Change stuff continues...I'm really enjoying the COLD Spring weather here in North Los Angeles.</td><td>0</td><td>0.0</td></tr><tr><td>I love how the scientific community claims to know all by knowing nothing. Global warming and this autism vaccine garbage is more of this</td><td>0</td><td>1.0</td></tr><tr><td>I rated a YouTube video (5 out of 5 stars) -- SNOBAMA: DC's 2010 SNOW BLASTS OBAMA, THE IPCC & GLOBAL WARMING http://youtu.be/FDNWoZecHjg?a</td><td>0</td><td>0.0</td></tr><tr><td>I think we can all agree this Prius disaster proves once and for all that global warming doesn't exist /via @StephenAtHome</td><td>0</td><td>0.0</td></tr><tr><td>I thought of killing myself, says climate scandal professor http://bit.ly/ddpGQL GLOBAL WARMING IS A FRAUD 4 WORLD GOVERNMENT! #NWO</td><td>0</td><td>0.0</td></tr><tr><td>Ice-covered volcanoes may answer climate change questions - latimes.com http://retwt.me/1MWLs (via @LATimesscience)</td><td>1</td><td>1.0</td></tr><tr><td>Iceland volcano unlikely to slow global warming: scientists: AFP PARIS ��_ Big volcanic eruptions have had a cooling... [link]</td><td>1</td><td>1.0</td></tr><tr><td>If global warming gets any worse I am going to have to buy a snow blower</td><td>1</td><td>1.0</td></tr><tr><td>If the climate changes long enough, the culture will change; i.e. Harvard University....via Glen Schultz</td><td>1</td><td>1.0</td></tr><tr><td>Illegal war and the myth of global warming|My main campaign platform for this election will be the illegal .. [link]</td><td>0</td><td>0.0</td></tr><tr><td>In DC now it's freezing cold, its really bad & STORMING, I bet those folks could really use, some of Al Gore's Global WARMING #libtard #tcot</td><td>0</td><td>0.0</td></tr><tr><td>In Vino Veritas The delicate wine grape has become our best early-warning system for the effects of global warming. [link]</td><td>1</td><td>1.0</td></tr><tr><td>In Vino Veritas The delicate wine grape has become our best early-warning system for the effects of global warming. http://bit.ly/9lUTkI</td><td>1</td><td>1.0</td></tr><tr><td>Increasingly, corporations are concluding climate change is real. Betting on Climate Change | Wired.com [link]</td><td>1</td><td>1.0</td></tr><tr><td>India abandons UN's Intergovernmental Panel on Climate Change (IPCC) as untrustworthy http://bit.ly/abMsJt</td><td>0</td><td>1.0</td></tr><tr><td>India seeks clarity on equity of climate change flow http://retwt.me/1LULK (via @HeadlinesIndia)</td><td>1</td><td>0.0</td></tr><tr><td>Indonesia Tree Program Looks to Reduce Global Warming: Planting trees is one way to help maintain the natural pres... [link]</td><td>1</td><td>1.0</td></tr><tr><td>Interested in how the US Fish and Wildlife Service (@USFWSHQ) is addressing #climate change and fish/wildlife? http://bit.ly/imALM #science</td><td>1</td><td>1.0</td></tr><tr><td>Interesting point re: why macro-probs like global warming are never solved: politicians need only solve immediate probs for re-election</td><td>1</td><td>1.0</td></tr><tr><td>Inuit must adapt to climate change: study: James Ford has spent eight years researching the effects of climate c... http://bit.ly/bYEa9l</td><td>1</td><td>1.0</td></tr><tr><td>Invasive News: Invasive Species Thriving in Period of Climate Change - India Business Blog (blog): Invasive Specie... http://bit.ly/aNGpE2</td><td>1</td><td>1.0</td></tr><tr><td>Is nationalizing the energy industry necessary to fight global warming?  [link]</td><td>1</td><td>1.0</td></tr><tr><td>It Seems The Global Warming Hoax Is Starting To Sink In.  What Will Th</td><td>0</td><td>0.0</td></tr><tr><td>It's Climate Change Day today! ' Ask the Climate Question http://retwt.me/1MYNE (via @GreenAllianceUK)</td><td>1</td><td>1.0</td></tr><tr><td>It's global climate change-not warming. #ac Read: www.associatedcontent.com/article/2872954/global_climate_change_not_global_warming.html</td><td>0</td><td>1.0</td></tr><tr><td>It's not the same ol' Walden Pond anymore: how climate change has altered Thoreau's hideaway. http://bit.ly/d6Rppq</td><td>1</td><td>1.0</td></tr><tr><td>It's settled: Global warming science is sloppy: According to the last IPCC report, published in 2007, some 55% of ... http://bit.ly/aYnzEJ</td><td>0</td><td>0.0</td></tr><tr><td>Jerry Brown's global warming revenge?: Backers of a proposed ballot initiative to suspend California's landmark gl... http://bit.ly/a5QLF0</td><td>1</td><td>1.0</td></tr><tr><td>John Fugelsang, Climate Change, and Coal Goes Shopping: Gun advocates rallied this week in support of their rig... http://bit.ly/9YsENz #p2</td><td>1</td><td>0.0</td></tr><tr><td>Jones Shreds Capitol Hill to Fight Climate Change - Big-time events like the Winter X-Games and the Winter Olympics... http://ow.ly/16xDae</td><td>1</td><td>1.0</td></tr><tr><td>Just Read: US Generals say: Climate Change Threatens America's Security [link]</td><td>1</td><td>1.0</td></tr><tr><td>Just attended an excellent EDF Board meeting http://bit.ly/61N0U Great eco policy shop. Present challenges on global warming front.</td><td>1</td><td>0.0</td></tr><tr><td>Just posted European Forests and Carbon Sequestration Services: An Economic Assessment of Climate Change Impacts http://bit.ly/awFKHw #b2p</td><td>1</td><td>1.0</td></tr><tr><td>Just posted Public's willingness to pay for preventing climate change http://bit.ly/cV1ZFi #b2p</td><td>1</td><td>1.0</td></tr><tr><td>Just posted Temperature and the Allocation of Time: Implications for Climate Change http://bit.ly/95CeOL #b2p</td><td>1</td><td>1.0</td></tr><tr><td>Just signed an #earthday petition to take action on climate change via @rockthevote: http://bit.ly/ainwzM</td><td>1</td><td>1.0</td></tr><tr><td>Kim Cranston: Climate Change Plus West Coast = Climatopia? http://bit.ly/9Y4jaI</td><td>1</td><td>1.0</td></tr><tr><td>Knee-Jerk No Fly Ban Discredits Global Warming Alarmists http://bit.ly/bhG1Vg</td><td>0</td><td>0.0</td></tr><tr><td>Last few days climate change had shown its full impact on most part of India.Its now high time we two legged animals should behave sensibly.</td><td>1</td><td>1.0</td></tr><tr><td>Letter: Global warming in God's hands ��_ Knoxville News Sentinel  http://bit.ly/43l8h5</td><td>1</td><td>1.0</td></tr><tr><td>Lobbyists rush to block EPA action on #climate change http://bit.ly/d5lq3G</td><td>1</td><td>1.0</td></tr><tr><td>Lord Smith warns climate change argument has been undermined by 'climategate' http://bit.ly/bKnzgh</td><td>1</td><td>1.0</td></tr><tr><td>MMR doctor Andrew Wakefield fixed data on autism - Times Online: http://bit.ly/fFPGY Sounds just like the Global Warming HOAX</td><td>0</td><td>0.0</td></tr><tr><td>Maaaan. All this global warming stuff just got exposed as a scandal. Hope we get some real science on the climate change that's happening.</td><td>0</td><td>0.0</td></tr><tr><td>Makes sense! RT @StephenAtHome I think we can all agree this Prius disaster proves once and for all that global warming doesn't exist</td><td>0</td><td>0.0</td></tr><tr><td>Maria Rodale: Back to the Nursery...It's Planting Time!: It's only early April, but global warming has given me a... http://huff.to/cxpLnj</td><td>1</td><td>1.0</td></tr><tr><td>Mary Ellen Harte and John Harte: Addressing Global Warming: Retrain Coal Workers for Green Jobs: When Congress cre... http://bit.ly/cmw6eM</td><td>1</td><td>1.0</td></tr><tr><td>Matt Ridley on climategate in Spectator: http://www.spectator.co.uk/print/politics/all/5749853/the-global-warming-guerrillas.thtml</td><td>0</td><td>1.0</td></tr><tr><td>Mayor calls for Londoners' ideas to help tackle climate change http://retwt.me/1LWVs (via @MayorOfLondon)</td><td>1</td><td>1.0</td></tr><tr><td>Microbes Contribute Less to Global Warming|New Haven, Conn. .. http://oohja.com/xbO0z</td><td>1</td><td>1.0</td></tr><tr><td>Microbes aren't accelerating global warming as expected: London, April 17 (ANI): Soil microbes are producing less ... http://bit.ly/97Kn95</td><td>1</td><td>1.0</td></tr><tr><td>Military leads fight against climate change: Pew [link]</td><td>1</td><td>1.0</td></tr><tr><td>Missing' heat may affect future climate change http://retwt.me/1MQTn (via @stephanbecker)</td><td>1</td><td>1.0</td></tr><tr><td>Most snow we've had in years...if you believe in Global Warming...please check into an institution because you've been brain washed</td><td>0</td><td>1.0</td></tr><tr><td>Movement to suspend California's global-warming law gathers steam http://bit.ly/an5naD</td><td>0</td><td>1.0</td></tr><tr><td>Must See Places Before They Disappear! : Europe...[PICS]: If Global Warming Predictions prove to be true, the foll... http://bit.ly/cLThD2</td><td>1</td><td>1.0</td></tr><tr><td>Must be global warming! NYC public schools will be closed tomorrow, Wednesday, due to an expected winter snowstorm. /via @311NYC</td><td>0</td><td>1.0</td></tr><tr><td>My new hero! RT @Cubachi Gov. Christie will cut all $65 million from NJ's global warming fund http://is.gd/brylO</td><td>0</td><td>0.0</td></tr><tr><td>NASA Launches Climate Change Supercomputer: Just in time for Earth Day, a new NASA data-crunching tool aims to re... http://huff.to/cBmtxF</td><td>1</td><td>1.0</td></tr><tr><td>Natural Resource Econ: Krugman on Climate Change http://bit.ly/b4IyRj</td><td>1</td><td>1.0</td></tr><tr><td>Never has a public-policy agenda been pursued with so little regard for scientific fact or for public opinion. The Global-Warming Tax. #tcot</td><td>0</td><td>0.0</td></tr><tr><td>Never mind McCain supports global warming legislation. Progressives are too blind to own ideologue talking points for their own arguments.</td><td>1</td><td>1.0</td></tr><tr><td>New Climate Agency!?  So spend more $ for something no one is in control of or can change.  Brilliant...dang it's cold outside.</td><td>0</td><td>0.0</td></tr><tr><td>New Federal Climate Change Agency Forming http://bit.ly/a8lfPz</td><td>1</td><td>1.0</td></tr><tr><td>New Global Warming Alarmism from LA Times: 'The World is Running Short on Air Pollution' http://tinyurl.com/y5xjzc8 #tcot #ocra</td><td>0</td><td>1.0</td></tr><tr><td>New Ozone Standards could contribute to warming ;O global warming for kids http://bit.ly/b3dgCw</td><td>1</td><td>1.0</td></tr><tr><td>New York: Climate change could raise cost of allergies [link]</td><td>1</td><td>1.0</td></tr><tr><td>New York: Climate change could raise cost of allergies http://newyork.cityandpress.com/2010/04/15/climate-change-could-raise-cost-allergies</td><td>1</td><td>1.0</td></tr><tr><td>New blog post about competing or complementary corporate financial disclosure rules for #climate change liability http://bit.ly/bRJNrY</td><td>1</td><td>1.0</td></tr><tr><td>New blog post: 12 Inches of Global Warming (Video) http://bit.ly/bAEaJd #tcot</td><td>1</td><td>1.0</td></tr><tr><td>New federal climate change agency forming http://bit.ly/cB3YrH #environment #eco</td><td>1</td><td>1.0</td></tr><tr><td>New post: Cloudy with a Chance of Climate Change (http://bit.ly/asXGjd) http://bit.ly/asXGjd</td><td>0</td><td>0.0</td></tr><tr><td>News Corp Aims To Go Carbon Neutral While Fox News Promotes Climate Change As... http://huff.to/dvvVs8</td><td>1</td><td>1.0</td></tr><tr><td>Nigeria, Climate Change And A Renewable Energy Master Plan | Gov ... http://bit.ly/cuOASY</td><td>1</td><td>1.0</td></tr><tr><td>Now on PBS: Going Green New York: Examining how New Yorkers are confronting climate change Check local listings http://ow.ly/1BvA8</td><td>1</td><td>1.0</td></tr><tr><td>Now to send an email to a climate change denier. goody</td><td>1</td><td>1.0</td></tr><tr><td>Obama Battles to Keep Global Warming, Biofuels Initiatives on Track|Amid doubts about climate change legislation, .. http://oohja.com/x6kgG</td><td>1</td><td>1.0</td></tr><tr><td>Obama's base cares about their religion of global warming and Marxism. The myth of healthcare. The myth of peace without having to be strong</td><td>0</td><td>0.0</td></tr><tr><td>Ocean Saltiness Getting Weird ��_ Blame Global Warming: IndyPosted (blog) A study conducted by scientists at Austral... http://bit.ly/cCQa1y</td><td>1</td><td>1.0</td></tr><tr><td>Ocean Saltiness Shows Global Warming Is Intensifying Our Water Cycle [link]</td><td>1</td><td>1.0</td></tr><tr><td>Ocean currents still strong despite global warming|Researchers at NASA have discovered that the ocean currents .. [link]</td><td>1</td><td>1.0</td></tr><tr><td>Oceans reveal further impacts of climate change, says UAB expert http://bit.ly/OceanImpacts (via @EcoInteractive)</td><td>1</td><td>1.0</td></tr><tr><td>Official NASA Report: Sun Causes Climate Change:  http://bit.ly/csJwrh (FTSN Social)</td><td>1</td><td>1.0</td></tr><tr><td>Officials defend climate science|Officials at UN-led talks in India insist climate change science is still very .. http://oohja.com/x6qEg</td><td>1</td><td>0.0</td></tr><tr><td>Olympics organisers desperate for climate change http://bit.ly/bfn2bA</td><td>1</td><td>1.0</td></tr><tr><td>Olympics organisers desperate for climate change http://url4.eu/1KvGL</td><td>1</td><td>1.0</td></tr><tr><td>Only a Third of Americans Believe Global Warming is Human-Caused: By Bob Ellis on April 26th, 2010 Good news! What... http://bit.ly/9XGqPB</td><td>0</td><td>1.0</td></tr><tr><td>Overall, pretty orderly in Target, considering the global warming headed our way...#dc</td><td>1</td><td>0.0</td></tr><tr><td>Overheard: from Carol Browner, Assistant to the President for Energy and Climate Change - She mentioned that... http://tumblr.com/xul8j2mvs</td><td>1</td><td>1.0</td></tr><tr><td>PHOTOS: Ten Environmental Losses of 2009: Global Warming Not Going Gently http://bit.ly/c2y2R6</td><td>1</td><td>1.0</td></tr><tr><td>Pachauri insists science behind global warming remains 'totally valid'|New Delhi, Feb 5: UN Inter-Governmental .. http://oohja.com/x6rBu</td><td>1</td><td>1.0</td></tr><tr><td>Palin Calls Global Warming a 'Bunch of Snake Oil Science' http://dlvr.it/1bYm</td><td>0</td><td>0.0</td></tr><tr><td>Palin likens global warming studies to 'snake oil'  http://bit.ly/bvfjK3 #climate</td><td>0</td><td>0.0</td></tr><tr><td>Pat Mooney on the Dangers of Geoengineering and Manipulating the Planet to Combat Climate Change  - http://awarela.org/?p=10280</td><td>1</td><td>1.0</td></tr><tr><td>Peoples World: GRAND RAPIDS, Mich. - Opponents of climate change legislation typically argue that regulating globa... [link]</td><td>1</td><td>0.0</td></tr><tr><td>Phony Climate Change Agenda Used In Australia to Force Expensive Home Inspections http://retwt.me/1LUui (via @sminfowars)</td><td>0</td><td>0.0</td></tr><tr><td>Photo: brooklynmutt: It's snowing so global warming is a myth! Anti-intellectualism at its finest. http://tumblr.com/x7q6bt19k</td><td>1</td><td>0.0</td></tr><tr><td>Plan B: California Braces for Climate Change [link]</td><td>1</td><td>1.0</td></tr><tr><td>Plan B: California Braces for Climate Change. [link]</td><td>1</td><td>1.0</td></tr><tr><td>Plan B: California Braces for Climate Change. http://bit.ly/b7w8Rf</td><td>1</td><td>1.0</td></tr><tr><td>Plants can effectively tackle global warming|Don't have SiliconIndia account? Sign up Forgot your password? Reset .. http://oohja.com/xc5Re</td><td>1</td><td>1.0</td></tr><tr><td>Politico story on the state of play in DC re climate change and #immigration http://ow.ly/1DOLJ Bottom line: #immigrants r being backstabbed</td><td>1</td><td>1.0</td></tr><tr><td>Poll: Most Nevadans Skeptical of Global Warming|A statewide poll shows 55 percent of Nevadans think global .. http://oohja.com/xb3DQ</td><td>0</td><td>0.0</td></tr><tr><td>Population Control and Climate Change (Part 1) http://bit.ly/cf39ly #News</td><td>1</td><td>1.0</td></tr><tr><td>Porous materials to reduce the climate change [link]</td><td>1</td><td>1.0</td></tr><tr><td>Porous materials to reduce the climate change http://bit.ly/aoLbPB</td><td>1</td><td>1.0</td></tr><tr><td>Ppl can't think 4 themselves they'll cont 2 believe global warming, even believe snow storms prove it. Idiots are so malleable. #climategate</td><td>0</td><td>0.0</td></tr><tr><td>Prince Charles On Climate Change: Global Warming Skeptics Are All Liars http://bit.ly/dmKIml</td><td>1</td><td>1.0</td></tr><tr><td>Progress in Improving Transparency in Environmental Protection and Climate Change in' http://goo.gl/fb/3AhNx #energy</td><td>1</td><td>1.0</td></tr><tr><td>Prospects for coordinated global action on climate change ' BraveNewClimate http://retwt.me/1MSqx (via @BraveNewClimate)</td><td>1</td><td>1.0</td></tr><tr><td>Put an end to the stupid global warming crap, ask perverts to explain the time between ice ages? George and Dick driving SUV's i suppose!</td><td>0</td><td>0.0</td></tr><tr><td>QUT researchers track climate change [link]</td><td>1</td><td>1.0</td></tr><tr><td>QUT researchers track climate change [link]</td><td>1</td><td>1.0</td></tr><tr><td>RE: *It isn't that the blizzard proves global warming is false, but it certainly is an argument against.*  Actually, i' http://disq.us/blf2a</td><td>1</td><td>0.0</td></tr><tr><td>RFK, Jr. 15 months ago: Global warming means no snow or cold in DC: ' Robert F. Kennedy Jr., who flies around on p... http://bit.ly/bhvc1D</td><td>0</td><td>0.0</td></tr><tr><td>RT @ANGAus: WH Director of Energy & Climate Change Browner: 'We think there are tremendous opportunities with #natgas' http://bit.ly/d3CAKq</td><td>1</td><td>1.0</td></tr><tr><td>RT @AllConcern: #enviroment: Traditional Indigenous Knowledge & Global Warming ' Stephen Leahy ... http://bit.ly/9b9Ofj</td><td>1</td><td>1.0</td></tr><tr><td>RT @AmericaBlog: Right-wingers already claiming that the blizzard proves climate change doesn't exist http://bit.ly/ba8u1x #p2</td><td>1</td><td>1.0</td></tr><tr><td>RT @BarackBorat: Can someone call the Al Gore and ask him for make turn the Global Warming back on?</td><td>0</td><td>1.0</td></tr><tr><td>RT @BizRoundtable BRT's Climate RESOLVE, SEE Change initiatives help biz develop tangible sustainability solutions http://bit.ly/9elZqB</td><td>1</td><td>1.0</td></tr><tr><td>RT @BluePractice: The clothing industry started global warming in the first place. - Yvon Chouinard, Patagonia #FortuneGreen</td><td>1</td><td>1.0</td></tr><tr><td>RT @CAUSECAST: If all farms in the US went organic, we could rest easy abt climate change. 10 things to know about organic farms: http://su.pr/2mUvox</td><td>1</td><td>1.0</td></tr><tr><td>RT @CHIoxfamaction: People in poor countries are 20 times more likely to be affected by disasters caused by climate change than those in the developed world</td><td>1</td><td>1.0</td></tr><tr><td>RT @ClimaTweets: [World Changing] 29 Graphs of Climate Change Science in One Place:  a one stop shop of... http://bit.ly/913ZwI</td><td>1</td><td>1.0</td></tr><tr><td>RT @Climate scam another warmist has to be rescued from Arctic cold Global warming activist 'transported ... http://bit.ly/9mgHdk #tcot #p2</td><td>0</td><td>0.0</td></tr><tr><td>RT @ClimateBuzz: How the world can move forward in climate change negotiations -http://bit.ly/c6InLW</td><td>1</td><td>1.0</td></tr><tr><td>RT @Climates_Change: Bring Indigenous Voices into the Conversation About Climate Change http://bit.ly/bbP0gG</td><td>1</td><td>1.0</td></tr><tr><td>RT @Consequence09: Pretty awesome 10-min breakdown of climate change: http://ow.ly/1y00p</td><td>1</td><td>1.0</td></tr><tr><td>RT @Doc_0: If the purpose of int'l courts is 2 prosecute crimes against humanity, everyone behind the global warming fraud belongs in court.</td><td>0</td><td>0.0</td></tr><tr><td>RT @Drudge_Report: STATE DEPT. DECLARES:   'Global warming unequivocal and primarily human-induced'... [link]</td><td>1</td><td>1.0</td></tr><tr><td>RT @Eco_Costa_Rica: Costa Rica's Monteverde, climate change & effects the on biodiversity http://bit.ly/CRClimateChange RT @EPSClimate</td><td>1</td><td>1.0</td></tr><tr><td>RT @EmpressCGC: Finally, Rebuttal to 'Snow Means No Global Warming' Nonsense Aired in Mainstream Media (Video) http://bit.ly/9LyKDH (via @TreeHugger)</td><td>1</td><td>0.0</td></tr><tr><td>RT @Global_Witness: Vacancy: Senior Climate Change Campaigner http://bit.ly/aoJxNT #climate #energy #humanrights #... http://bit.ly/c9vB5v</td><td>1</td><td>1.0</td></tr><tr><td>RT @Greenpeace Despite the sceptics, #climate change must remain a priority http://j.mp/9IpUIA</td><td>1</td><td>1.0</td></tr><tr><td>RT @HeidiAmes: Climate change favors invasive species over indigenous ones. 30% of plants Thoreau saw are now extinct. http://j.mp/bbjysn</td><td>1</td><td>1.0</td></tr><tr><td>RT @Heritage new Foundry post: The DC Blizzard:  More proof of Global Warming! http://bit.ly/alKBnE #snomas #snoverit #snomg #snotorious</td><td>1</td><td>0.0</td></tr><tr><td>RT @HitTheRoadCa: Join the Peoples Conference on Climate Change live at http://envivocmpcc.org.bo #ecomonday #cmpcc #wpccc #cochabamba</td><td>1</td><td>1.0</td></tr><tr><td>RT @HuffPostGreen: hey! wow!  New Federal Climate Change Agency Announced http://bit.ly/aybO8Z</td><td>1</td><td>1.0</td></tr><tr><td>RT @HuffPostGreen: hey! wow!  New Federal Climate Change Agency Announced http://bit.ly/aybO8Z - cool!</td><td>1</td><td>1.0</td></tr><tr><td>RT @InvasiveNotes: RT @RareWildlifeGuy: Climate change: Migration patterns have changed for 20 billion birds:   [link]</td><td>1</td><td>1.0</td></tr><tr><td>RT @JMAlderete: TreeHugger: Finally, Rebuttal to 'Snow Means No Global Warming' Nonsense Aired in Mainstream Media http://bit.ly/bimHCU</td><td>0</td><td>0.0</td></tr><tr><td>RT @JamesAllenShow According to MSNBC, Global Warming causes blizzards http://bit.ly/cfn8jl</td><td>1</td><td>1.0</td></tr><tr><td>RT @JoshBearjoolow RT @JamisonDague: I love that, since it's cold, climate change is a hoax. That's like s... http://bit.ly/cFz0N4 #Lottery</td><td>1</td><td>1.0</td></tr><tr><td>RT @JulesBeaujolais: RT: @StopBeck: So #tcot, if snow during the winter disproves global warming, does a hot day during summer prove it? #p2</td><td>1</td><td>0.0</td></tr><tr><td>RT @LAist: Speaking at a CA Event today, Palin Calls Global Warming a 'Bunch of Snake Oil Science': http://bit.ly/cpZm87</td><td>0</td><td>0.0</td></tr><tr><td>RT @LAist: Speaking at a CA Event today, Palin Calls Global Warming a 'Bunch of Snake Oil Science': http://bit.ly/cpZm87</td><td>0</td><td>0.0</td></tr><tr><td>RT @MMFA: Ignoring previous  claims by experts, RedState attacks DHS for citing climate change as national ... http://bit.ly/aXIWtV ( #p2 )</td><td>1</td><td>1.0</td></tr><tr><td>RT @MarkKrajnak: Annnnd....we have snow.. (Annnnd more snow, and more snow and even more snow - must be global warming)</td><td>0</td><td>0.0</td></tr><tr><td>RT @MikeRwithCRC: Climate change activist proponent Ian Katz complains that global warming debate has fallen apart.  http://bit.ly/bcEzBs</td><td>1</td><td>1.0</td></tr><tr><td>RT @MilesGrant: RT @EricBoehlert Why won't Drudge acknowledge snow-less 'Global Warming Games' in Vancouver? http://ow.ly/15S0O #climate</td><td>1</td><td>1.0</td></tr><tr><td>RT @Mommy4Cocktails:RT @JimDeMint:going 2 keep snowing in DC til Al Gore cries uncle/Weather Channel says freaky snow IS b/c global warming</td><td>0</td><td>0.0</td></tr><tr><td>RT @NREMag: Article on #climate change as civil rights issue http://tinyurl.com/zbepwx; #Air has piece on how CAA stds impede environmental justice</td><td>1</td><td>1.0</td></tr><tr><td>RT @Newsweek: Climate Change: Places To See Before They Disappear��_The Americas (Photos) [link]</td><td>1</td><td>1.0</td></tr><tr><td>RT @Newsweek: Global Warming Kills Forests In Colorado [link]</td><td>1</td><td>1.0</td></tr><tr><td>RT @Newsweek: Global Warming Kills Forests In Colorado http://bit.ly/coOWIt</td><td>1</td><td>1.0</td></tr><tr><td>RT @Newsweek: Global Warming Kills Forests In Colorado http://bit.ly/coOWIt</td><td>1</td><td>1.0</td></tr><tr><td>RT @Noreen1 Does #GOP really think snowstorms disprove #climate change? Yup. @bradplumer shows how idiotic that is http://bit.ly/bzv5iS</td><td>1</td><td>1.0</td></tr><tr><td>RT @OperationFree Op Free and QDR in sync: climate change threatens national security.  http://bit.ly/aGVNOh</td><td>1</td><td>1.0</td></tr><tr><td>RT @Qorianka World People's Conference on Climate Change and the Rights of Mother Earth: http://is.gd/bzHOa  #cochabamba</td><td>1</td><td>1.0</td></tr><tr><td>RT @RyanNewYork Gulf Coast spill better give Climate Change Legislation some momentum. It's a bigger tragedy than we're even aware of yet.</td><td>1</td><td>1.0</td></tr><tr><td>RT @TEDNews: Larry Brilliant at #tedxvolcano: Climate change is exacerbating all other crises of our age. But climate science is now under attack.</td><td>1</td><td>1.0</td></tr><tr><td>RT @TEDNews: Larry Brilliant at #tedxvolcano: Climate change is exacerbating all other crises of our age. But climate science is now under attack.</td><td>1</td><td>1.0</td></tr><tr><td>RT @TM_Climate: Climate Change and the Amazon Rainforest http://retwt.me/1LRVk (via @mongabay)</td><td>1</td><td>1.0</td></tr><tr><td>RT @TheClimateDesk: Climate change hive mind? Starting Mon 4/19, news orgs team up to explore the impacts of our warming planet</td><td>1</td><td>1.0</td></tr><tr><td>RT @UNcareers: UN remains proper platform for climate change talks: De Boer: By Xinhua writer Liu Xiaoyan, Huang Kun BONN, German... htt ...</td><td>1</td><td>0.0</td></tr><tr><td>RT @WWF_Climate    RT @CarbonDiplomacy Grapes of Wrath: How much trouble does #climate change mean for agriculture? http://bit.ly/abDh6c</td><td>1</td><td>1.0</td></tr><tr><td>RT @WWF_Climate: Looking for great media material on human impact of #climate change? Climate Witness stories http://is.gd/5fSMv #wwf</td><td>1</td><td>1.0</td></tr><tr><td>RT @climatedebate: Climate change aids invasive plants:  http://bit.ly/bbH0U7</td><td>1</td><td>1.0</td></tr><tr><td>RT @contessabrewer: @newsbusters That's not what I said.  I said that snowstorms don't refute global warming. (RE: http://ow.ly/162Vy)</td><td>1</td><td>1.0</td></tr><tr><td>RT @contessabrewer: @newsbusters That's not what I said.  I said that snowstorms don't refute global warming. (RE: http://ow.ly/162Vy)</td><td>1</td><td>1.0</td></tr><tr><td>RT @dailygalaxy Ash from Iceland's Volcano Sweeping Across Europe: Are Volcanoes Being Triggered by Global Warming http://bit.ly/d0hgNX #p2</td><td>1</td><td>1.0</td></tr><tr><td>RT @dailykos: Climate Change Skeptics Discredited http://bit.ly/bWsUBZ</td><td>1</td><td>1.0</td></tr><tr><td>RT @danielsaudade: What beautiful fall weather this morning, New York! Thanks climate change! Bleh!</td><td>1</td><td>1.0</td></tr><tr><td>RT @davidcorndc: Can someone please explain to conservatives that with climate change, some areas will get colder and weather patterns will shift.</td><td>1</td><td>1.0</td></tr><tr><td>RT @dougbenson: Dear Stupid People Who Think These Winter Storms Means There's No Such Thing As Global Warming, You're stupid. Love, Shut up</td><td>1</td><td>1.0</td></tr><tr><td>RT @drgrist: Utah nat. resources committee passes resolution denying the existence of climate change: http://is.gd/7M50p Utah: Still crazy!</td><td>0</td><td>0.0</td></tr><tr><td>RT @earthinstitute: State of the Planet 2010 Conference: Connecting Voices Globally to Meet the Challenges of Climate Change, Poverty... http://bit.ly/cYM4gC</td><td>1</td><td>1.0</td></tr><tr><td>RT @energysection: Backgrounder: China's major policies to tackle climate change since year 2000.. [link]</td><td>1</td><td>1.0</td></tr><tr><td>RT @fredthompson UN Global Warming chair says skeptics can't tell asbestos from talcum pwdr. At least they can tell science from a snow job.</td><td>1</td><td>0.0</td></tr><tr><td>RT @gb_Joe: Global Warming sea level rise? Carbon footprint? Al Gore buys $9 million  estate by ocean http://bit.ly/bZKtRk</td><td>0</td><td>0.0</td></tr><tr><td>RT @greenforyou Global Warming Makes Trees Grow Faster #green http://bit.ly/aTcHok</td><td>1</td><td>1.0</td></tr><tr><td>RT @grittv: American media isn't putting out much on Climate Change. That's why you should watch GRIT's take!http://digg.com/u1U6aY</td><td>0</td><td>1.0</td></tr><tr><td>RT @indiaenvportal: Make IT green: cloud computing and its contribution to climate change  [link]</td><td>1</td><td>1.0</td></tr><tr><td>RT @jmac82 Due to snow of course RT @Drudge_Report    Senate global warming hearing cancelled... http://drudge.tw/dyAWzC // lol</td><td>0</td><td>0.0</td></tr><tr><td>RT @kathrynlopez    a climate change on climate change http://tinyurl.com/yeyljlc</td><td>0</td><td>1.0</td></tr><tr><td>RT @kombiz: pretty big.. Former Senator Warner ties Climate Change to security issues...  http://bit.ly/9a5S0n</td><td>1</td><td>0.0</td></tr><tr><td>RT @kombiz: pretty big.. Former Senator Warner ties Climate Change to security issues...  http://bit.ly/9a5S0n</td><td>1</td><td>0.0</td></tr><tr><td>RT @kombiz: pretty big.. Former Senator Warner ties Climate Change to security issues...  http://bit.ly/9a5S0n</td><td>1</td><td>0.0</td></tr><tr><td>RT @latimes: Foes of California's global warming law pour money into a campaign to delay it http://lat.ms/bSpqIX</td><td>1</td><td>1.0</td></tr><tr><td>RT @linkspolitik: RT @StopBeck: So #tcot, if snow during the winter disproves global warming, does a hot day during summer prove it? #p2</td><td>1</td><td>0.0</td></tr><tr><td>RT @milesgrant: Virginia Republican Party mocks those who trust science of global warming - like Bob McDonnell: http://ow.ly/14jM0</td><td>1</td><td>0.0</td></tr><tr><td>RT @mmaction: Snowstorms Do Not Disprove Climate Change http://bit.ly/dfi3es #p2 #tcot</td><td>1</td><td>1.0</td></tr><tr><td>RT @mmfa Brain Freeze: Conservative media still using winter weather 2 attack global warming http://bit.ly/9nKEcc #p2 #noisemachine #climate</td><td>1</td><td>1.0</td></tr><tr><td>RT @mmfa Brain Freeze: Conservative media still using winter weather to attack global warming: http://bit.ly/9nKEcc #noisemachine #climate</td><td>1</td><td>1.0</td></tr><tr><td>RT @mmfa: Brain Freeze: Conservative media still using winter weather to attack global warming: http://bit.ly/9nKEcc #p2 #noisemachine #climate</td><td>1</td><td>1.0</td></tr><tr><td>RT @mongabay: Climate Change and the Amazon Rainforest: http://bit.ly/cVzrVa</td><td>1</td><td>1.0</td></tr><tr><td>RT @mrdannyglover i support the world people's conference on climate change in cochabamba, bolivia. watch live now at [link]</td><td>1</td><td>1.0</td></tr><tr><td>RT @newtgingrich: Historic snow storm in washington-third this year-where is al gore to explain it snows this heavily as a sign global warming is imminent</td><td>0</td><td>0.0</td></tr><tr><td>RT @newtgingrich: Historic snow storm in washington-third this year-where is al gore to explain it snows this heavily as a sign global warming is imminent</td><td>0</td><td>0.0</td></tr><tr><td>RT @nicknotned: How cranky bloggers are puncturing the consensus on climate change. by Matt Ridley  http://j.mp/cIQbOE</td><td>0</td><td>0.0</td></tr><tr><td>RT @organicnewyork Climate change making seasonal allergies worse. Blame the solar system, hey where'd Al GORED go?</td><td>1</td><td>1.0</td></tr><tr><td>RT @panteraonca07: Slideshow of Alaska Before the Effects of Global Warming http://bit.ly/d1szFE</td><td>1</td><td>1.0</td></tr><tr><td>RT @redostoneage: @hrhsar Accumulating Evidence of the Corrupted US Temp Record #global warming #climate changehttp://bit.ly/b98uZC Volcano</td><td>1</td><td>0.0</td></tr><tr><td>RT @redostoneage: Climategate:Faster & faster the Dominos fall http://bit.ly/akBYCa #global warming #climate change</td><td>0</td><td>1.0</td></tr><tr><td>RT @rhonyk: @Qorianka Many thx 2 U Sister,for yr partcipation in the World Peoples Summit 4 Climate Change. #Indigenous #EarthRights #Global</td><td>1</td><td>1.0</td></tr><tr><td>RT @sarahbellumd: TP action figure pls! RT @GregGutfeld: Tugboat Phil is our 1 hope against global warming. #redeye</td><td>0</td><td>1.0</td></tr><tr><td>RT @sarahconner: Ridiculous: giving climate change denier nature show? Keep Sarah Palin off #Discovery http://bit.ly/bmUK4w via @CREDOmobile</td><td>1</td><td>1.0</td></tr><tr><td>RT @sbthistle: More snow 4 DC. Hope anti-climate change members of Congress & lobbyists, r paying attention. http://tinyurl.com/yedwvex #co2</td><td>1</td><td>0.0</td></tr><tr><td>RT @sejorg: RT @JaymiHeimbuch: Ocean Saltiness Shows Global Warming Is Intensifying Our Water Cycle [link]</td><td>1</td><td>1.0</td></tr><tr><td>RT @sejorg: RT @JaymiHeimbuch: Ocean Saltiness Shows Global Warming Is Intensifying Our Water Cycle http://bit.ly/bKlU4H</td><td>1</td><td>1.0</td></tr><tr><td>RT @terryacarter For those doubting global warming because of this snow. Vancouver having warmest Winter on record. It's called a trend line</td><td>1</td><td>1.0</td></tr><tr><td>RT @thejoshuablog: RT @AmericaBlog: Right-wingers already claiming that the blizzard proves climate change doesn't exist http://bit.ly/ba8u1x #p2</td><td>1</td><td>1.0</td></tr><tr><td>RT @thejoshuablog: RT @MMFA: Ignoring previous  claims by experts, RedState attacks DHS for citing climate change as national ... http://bit.ly/aXIWtV ( #p2 )</td><td>1</td><td>1.0</td></tr><tr><td>RT @time D.C. Snowstorm: How Global Warming Makes Blizzards Worse - TIME http://bit.ly/afRApN</td><td>1</td><td>1.0</td></tr><tr><td>RT @time D.C. Snowstorm: How Global Warming Makes Blizzards Worse - TIME http://bit.ly/afRApN</td><td>1</td><td>1.0</td></tr><tr><td>RT @time D.C. Snowstorm: How Global Warming Makes Blizzards Worse - TIME http://bit.ly/afRApN #green #climate #smh</td><td>1</td><td>1.0</td></tr><tr><td>RT @toddstarnes: Dear Mr. Gore, would you mind helping to shovel the 30 inches of global warming in DC?</td><td>0</td><td>0.0</td></tr><tr><td>RT @txvoodoo: Dr Jeff Masters of @wunderground has a great blog about storms & global warming: http://is.gd/7YoX4</td><td>1</td><td>1.0</td></tr><tr><td>RT @wood83: Global warming alarmists meet record snowfall, record snowfall meet global warming alarmists</td><td>0</td><td>0.0</td></tr><tr><td>RT @wsmco: should tie a liberal global warming scum to front of every snowplow in dc. and drag morons who voted for them behind it.</td><td>0</td><td>0.0</td></tr><tr><td>RT @zanieladie: East Coast is going to get pounded with snow again. Stupid global warming!</td><td>0</td><td>0.0</td></tr><tr><td>RT for those that didn't see it this morning @GBDave If you think global warming is a bad thing... http://tiny12.tv/YIE0Y</td><td>0</td><td>0.0</td></tr><tr><td>RT@greenforyou An estimated 20 billion birds changed their migrating habits in last few decades due to global warming http://bit.ly/cRfauy</td><td>1</td><td>1.0</td></tr><tr><td>Rather amused at climate change deniers who wryly refer to snow as 'global warming' -- they're a bit closer to the mark than they think.</td><td>1</td><td>1.0</td></tr><tr><td>Reinvent Cities to Stop Climate Change [link]</td><td>1</td><td>1.0</td></tr><tr><td>Rejoice, NY Times mentions crop wild relatives in article about adapting agriculture to climate change http://bit.ly/dmIB7F #agriculture</td><td>1</td><td>1.0</td></tr><tr><td>Report Claims Climate Change Is To Blame For Increase Of Allergies [link]</td><td>1</td><td>1.0</td></tr><tr><td>Report: Allergy Season to Get Worse with Climate Change (Time.com) http://nxy.in/h4e3z</td><td>1</td><td>1.0</td></tr><tr><td>Report: Climate change indicates need for Scots to consider new species in reforestation:  http://bit.ly/bn0SJd</td><td>1</td><td>1.0</td></tr><tr><td>Reuters AlertNet - Climate change migration could complicate polio eradica.. http://retwt.me/1MRon (via @alertnetclimate)</td><td>1</td><td>1.0</td></tr><tr><td>Ridiculous: giving a climate change denier a nature show? Keep Sarah Palin off #Discovery: [link]</td><td>1</td><td>1.0</td></tr><tr><td>Robert F. Kennedy Jr., predicted 15 months ago there wouldn't be snow in DC again due to 'global warming': http://ow.ly/15bCC #tcot</td><td>1</td><td>1.0</td></tr><tr><td>Robert S. Eshelman: World People's Conference on Climate Change and the Rights of Mother Earth kicks off in Boliv... http://huff.to/cWnaC8</td><td>1</td><td>1.0</td></tr><tr><td>Robin McKie v Benny Peiser - Has the science of climate change been undermined by email leaks and the IPCC's glacie... http://ow.ly/16w9Kb</td><td>1</td><td>1.0</td></tr><tr><td>Rt @InvasiveNotes RT @OceanChampions: No, snow does not disprove global warming: http://bit.ly/aX13RH</td><td>1</td><td>1.0</td></tr><tr><td>SCIENCE: Scientists explore the evolution of climate change http://url4.eu/2aBIw</td><td>1</td><td>1.0</td></tr><tr><td>SEC Follows Through with Guidance Regarding Disclosure of Climate Change Risks and Opportunitie... Read more at http://bit.ly/9HQoEQ</td><td>1</td><td>1.0</td></tr><tr><td>SEC Recognizes Climate Change as Material Business Risk http://bit.ly/aXTBYB</td><td>1</td><td>1.0</td></tr><tr><td>SEC wants climate risks disclosed | Analysis & Opinion | Reuters: The SEC now sees climate change as a risk too im... http://bit.ly/bl6VEp</td><td>1</td><td>1.0</td></tr><tr><td>SEC warns publically held companies to advise investors of risks of #climate change. http://ow.ly/1DUIy #CSR</td><td>1</td><td>1.0</td></tr><tr><td>STATE DEPT. DECLARES: 'Global warming unequivocal and primarily human-induced'... http://ow.ly/1774mS</td><td>1</td><td>1.0</td></tr><tr><td>Save the Whales and They'll Save Us from Global Warming http://bit.ly/cN013J #tcot</td><td>1</td><td>1.0</td></tr><tr><td>Schwarzenegger carries torch for tough auto emissions standards | Climate Change | Pembina Institute http://retwt.me/1LYxg (via @DanWoy)</td><td>1</td><td>1.0</td></tr><tr><td>Scientist's Sexxxy Novel Proves 'Climate Change' Is for Sex Pervs [Books] http://bit.ly/9AODlg</td><td>0</td><td>1.0</td></tr><tr><td>Seasonal Allergies Getting Worse From Climate Change [link]</td><td>1</td><td>1.0</td></tr><tr><td>Seculars worship at feet of fickle ANGRY Global Warming / Cooling god. And proselytize world. #tcot #gop #seanhannity</td><td>0</td><td>1.0</td></tr><tr><td>Sen. Kerry writing in The Hill today: U.S. Must Lead on Climate Change http://bit.ly/dCT9yb</td><td>1</td><td>1.0</td></tr><tr><td>Sen. Lindsey Graham: 'I care equally about immigration and climate change': I'll sit down with my c.. http://bit.ly/bCFage</td><td>1</td><td>1.0</td></tr><tr><td>Serious question: Will environmentalists still blame humans for climate change after this volcano? http://bit.ly/bsNUQW</td><td>0</td><td>1.0</td></tr><tr><td>Seriously, how is this helping to get people to work against climate change? http://bit.ly/bdEr0I</td><td>1</td><td>1.0</td></tr><tr><td>Short Vid, 2010 Snowmageddon: DC Snows Obama & Global Warming Activist http://bit.ly/9pYsgf #tcot #teaparty @senjohnmccain</td><td>1</td><td>0.0</td></tr><tr><td>Snow? Global Warming? Natural Laws & Climate Change: Sun Enters New...: LAW PUNDIT Sunday, February 07, 2010 2/07/... http://bit.ly/95tWNA</td><td>1</td><td>0.0</td></tr><tr><td>Snowmageddon Rearranges Climate Change Announcement http://bit.ly/biv3Yk &lt;- Love the irony.</td><td>0</td><td>1.0</td></tr><tr><td>Snowstorm: East Coast Blizzard Tied to Climate Change http://bit.ly/aMGM77</td><td>1</td><td>1.0</td></tr><tr><td>Snowstorms Do Not Disprove Climate Change | Media Matters Action Network http://retwt.me/1LYlk (via @mmaction)</td><td>1</td><td>1.0</td></tr><tr><td>So it*s April 27th, Phoenix has 90�_� weather & it might snow in New York today.. Hmmmm.. Global warming MUCH !</td><td>1</td><td>1.0</td></tr><tr><td>So its in the 40s today and tomorrow they're calling for another blizzard. Yes, global warming is real! Lol</td><td>0</td><td>0.0</td></tr><tr><td>Soaring mercury; Blame it on global warming|Agartala, Apr 14 : Environmentalists have attributed the .. http://oohja.com/xaMXU</td><td>1</td><td>1.0</td></tr><tr><td>Soaring mercury; Blame it on global warming|Agartala, Apr 14 : Environmentalists have attributed the .. http://oohja.com/xaN2I</td><td>1</td><td>1.0</td></tr><tr><td>Solar Radiation Management: Dr. Strangelove?s Fix for Global Warming|Ever hear of Solar Radiation Management? No, .. http://oohja.com/x6mVY</td><td>1</td><td>0.0</td></tr><tr><td>Some Global Warming huh? You were all lied to by Al Gore... he duped you.</td><td>0</td><td>0.0</td></tr><tr><td>Someone go tell the Climate Change crowd to go hang, after they read this: [link]</td><td>0</td><td>0.0</td></tr><tr><td>Spring Comes 10 Days Earlier In U.S. Due To Climate Change: [link]</td><td>1</td><td>1.0</td></tr><tr><td>Spring storm season starting a little late this year???  Must be global warming!</td><td>1</td><td>0.0</td></tr><tr><td>Still only 44 degrees in Chicago. This global warming is just too much! Have to cut grass .. hate to work outside when it's cold.</td><td>1</td><td>0.0</td></tr><tr><td>Still think global warming is cool?</td><td>1</td><td>0.0</td></tr><tr><td>Stone Soup The Importance of Trees in Halting Global Warming: Most people have heard that planting... http://bit.ly/b7l6Pn #stonesoupdayton</td><td>1</td><td>1.0</td></tr><tr><td>Story of the vaporization of the great gobal warming scandal #global warming http://is.gd/7TByc</td><td>0</td><td>0.0</td></tr><tr><td>Street-corner Global-warming Counsel: Urgh, certain elements of this item in Sunday's Washington Post, ��_Five Myths... [link]</td><td>1</td><td>1.0</td></tr><tr><td>Street-corner Global-warming Counsel: Urgh, certain elements of this item in Sunday's Washington Post, ��_Five Myths... [link]</td><td>1</td><td>1.0</td></tr><tr><td>Street-corner Global-warming Counsel: Urgh, certain elements of this item in Sunday's Washington Post, ��_Five Myths... http://bit.ly/9Lolme</td><td>1</td><td>1.0</td></tr><tr><td>Study assesses effects of earlier springs http://tr.im/NuV9 KB: More than 25,000 reasons to stop global warming. #eco #green</td><td>1</td><td>1.0</td></tr><tr><td>Study on climate change law cites 5 local refineries for negative health effects http://bit.ly/9yVwHz</td><td>1</td><td>1.0</td></tr><tr><td>Study: SE Asia will be hit hard by climate change [link]</td><td>1</td><td>1.0</td></tr><tr><td>Study: SE Asia will be hit hard by climate change http://retwt.me/1MN2w (via @cuddlendance)</td><td>1</td><td>1.0</td></tr><tr><td>THANKS! Its not global warming! RT @RosanneMF: Snowstorm: E Coast Blizzard Tied to Climate Change - @TIME http://bit.ly/9TRnGU (via @emmzee)</td><td>0</td><td>1.0</td></tr><tr><td>THE best climate change economics primer. - jasencomstock: I love Paul Krugman, and I have to say he makes an... http://tumblr.com/xkw8jdz7y</td><td>1</td><td>1.0</td></tr><tr><td>Take Action @change: Help Protect Wildlife Habitat from Climate Change [link]</td><td>1</td><td>1.0</td></tr><tr><td>Take Action @change: Help Protect Wildlife Habitat from Climate Change [link]</td><td>1</td><td>1.0</td></tr><tr><td>Take Action @change: Help Protect Wildlife Habitat from Climate Change http://bit.ly/9Ogdyi #climatechange #SierraClub #SaveTerra 36</td><td>1</td><td>1.0</td></tr><tr><td>Take Action @change: Help Protect Wildlife Habitat from Climate Change http://bit.ly/9Ogdyi #climatechange #SierraClub #SaveTerra 9</td><td>1</td><td>1.0</td></tr><tr><td>TelegraphNews India forms new climate change body  http://ow.ly/1o7IZC  (India says 'cannot rely' on UN IPCC panel)</td><td>1</td><td>1.0</td></tr><tr><td>Tell Rupert Murdoch to Get His Facts Straight on Climate Change: http://is.gd/biUHB #FoxNews #GlobalWarming #SaveTerra 4</td><td>0</td><td>1.0</td></tr><tr><td>Tell Rupert Murdoch to Get His Facts Straight on Climate Change: http://is.gd/biUHB #FoxNews #GlobalWarming #SaveTerra 7</td><td>0</td><td>1.0</td></tr><tr><td>Thank you James Sniffen from UNEP for a great session on Climate Change and the UN.</td><td>1</td><td>0.0</td></tr><tr><td>The Earth Institute's James Hansen warns against global warming in his new book 'Storms of My Grandchildren. http://bit.ly/9SK1fh</td><td>1</td><td>1.0</td></tr><tr><td>The Effect Of Organic Farming In Climate Change | Organic Earth http://bit.ly/a1rqhT</td><td>1</td><td>1.0</td></tr><tr><td>The Global Climate: Yes, Its Still Warming :) climate scientists</td><td>1</td><td>0.0</td></tr><tr><td>The Global Climate: Yes, Its Still Warming stop global warming :) http://bit.ly/b2du4M</td><td>1</td><td>1.0</td></tr><tr><td>The Good News About the Very Bad News (About Climate Change) http://ow.ly/17a4YA</td><td>1</td><td>1.0</td></tr><tr><td>The Great Beyond: Can climate change make the bed rock? http://retwt.me/1MSUP (via @flyingsaucerJ)</td><td>1</td><td>0.0</td></tr><tr><td>The Key to Fixing Global Warming China | Magazine: It's late November 2009, and US energy secretary Steven Chu is ... http://bit.ly/aMtvEN</td><td>1</td><td>1.0</td></tr><tr><td>The Minister for coal out of step with climate change action http://bit.ly/cbrpKb</td><td>1</td><td>1.0</td></tr><tr><td>The U.S. is forming new climate change agency | Oregon Local News - OregonLive.com http://retwt.me/1LWmF (via @OregonianEnviro)</td><td>1</td><td>1.0</td></tr><tr><td>The clothing industry started global warming in the first place. - Yvon Chouinard #FortuneGreen</td><td>1</td><td>1.0</td></tr><tr><td>The global warming is totally messing up the weather patterns in this world and is causing violent weather storms worldwide very hurtful</td><td>1</td><td>1.0</td></tr><tr><td>The global warming/climate change folks should switch their message to fighting pollution. http://bit.ly/aJVPvq</td><td>0</td><td>0.0</td></tr><tr><td>The good news about the very bad news (about climate change) by Rebecca Solnit http://bit.ly/cUKQVi</td><td>1</td><td>1.0</td></tr><tr><td>The great global warming collapse - The Globe and Mail http://ow.ly/14DHG</td><td>0</td><td>0.0</td></tr><tr><td>The great global warming collapse'... http://bit.ly/drrEIN</td><td>0</td><td>0.0</td></tr><tr><td>The great global warming collapse. Truth comes out! CarlWattsArtist.com http://ping.fm/xZOxH</td><td>0</td><td>0.0</td></tr><tr><td>The massive rainstorms and lots of terrible weather is affecting our planet something must be done about global warming soon</td><td>1</td><td>1.0</td></tr><tr><td>The need to switch to renewable energy|Climate scientists have long warned us that global warming is accelerating .. [link]</td><td>1</td><td>1.0</td></tr><tr><td>The need to switch to renewable energy|Climate scientists have long warned us that global warming is accelerating .. [link]</td><td>1</td><td>1.0</td></tr><tr><td>The need to switch to renewable energy|Climate scientists have long warned us that global warming is accelerating .. http://oohja.com/xaZzN</td><td>1</td><td>1.0</td></tr><tr><td>The power is out. This is fun. At least I have beer. Global warming=fail.</td><td>0</td><td>1.0</td></tr><tr><td>The reason global warming isn't accepted more widely has nothing to do with global warming or any lack of evidence. http://bit.ly/b9Jo7h</td><td>1</td><td>0.0</td></tr><tr><td>Those who demand you believe that Islam is a Religion of Peace also demand you believe in Anthropagenic  Global Warming.</td><td>0</td><td>1.0</td></tr><tr><td>Thoughts on Global Warming | Global Warming: What is Global Warming?Global Warming refers to a rise in the average... http://bit.ly/d2LxRG</td><td>1</td><td>0.0</td></tr><tr><td>Time Warp! 15 months ago RFK Jr. said Global warming means no cold or snow in DC.  http://bit.ly/bfq8s8 Suck it Bobby.</td><td>0</td><td>1.0</td></tr><tr><td>Time to Make Your Voices Heard on Climate Change http://bit.ly/cRKyFB #tcot #tlot</td><td>1</td><td>1.0</td></tr><tr><td>Todays sci lesson: Warm air holds more moisture, hits cold air == #snowmageddon. So yes, blizzards are sign of global warming.</td><td>1</td><td>1.0</td></tr><tr><td>Tom Switzer: Australia's Changing Climate-Change Climate http://on.wsj.com/duzwtK</td><td>1</td><td>1.0</td></tr><tr><td>Top Science Journal Calls for Climate Science Reform|A steady drip of errors in the top report on global warming .. http://oohja.com/x6L4Q</td><td>0</td><td>0.0</td></tr><tr><td>Topography of mountains could complicate rates of global warming http://bit.ly/cA5Bom</td><td>1</td><td>1.0</td></tr><tr><td>Treating Climate Change as a Curable Disease [link]</td><td>1</td><td>1.0</td></tr><tr><td>Treating Climate Change as a Curable Disease http://viigo.im/3fSu</td><td>1</td><td>1.0</td></tr><tr><td>Twenty Years of Advocacy, Not Journalism, on Global Warming http://bit.ly/cG3pnf</td><td>1</td><td>0.0</td></tr><tr><td>Twenty Years of Advocacy, Not Journalism, on Global Warming: For more than two decades, the so-called mainstream m... http://bit.ly/9lbTKX</td><td>1</td><td>0.0</td></tr><tr><td>U.S. Climate Change Portal Could Birth Entirely New Industries http://www.fastcompany.com/15437... Read more at http://bit.ly/9Z5WKf</td><td>1</td><td>1.0</td></tr><tr><td>U.S. Document Calls For ��_Global Regime��_ To Tackle Climate Change [link]</td><td>1</td><td>1.0</td></tr><tr><td>U.S. Document Calls For ��_Global Regime��_ To Tackle Climate Change [link]</td><td>1</td><td>1.0</td></tr><tr><td>U.S. Document Calls For ��_Global Regime��_ To Tackle Climate Change http://bit.ly/ddyxmX</td><td>1</td><td>1.0</td></tr><tr><td>U.S. senators prepare compromise climate change bill|Source: Reuters * Senator Kerry aims to introduce .. http://oohja.com/xaAIR</td><td>1</td><td>1.0</td></tr><tr><td>UN ��_ Only Global Cooperation Can Prevent Runaway Climate Change, Secretary ��_: The United Nations seeks dialogue, i... [link]</td><td>1</td><td>1.0</td></tr><tr><td>US Government's New Climate Change Claim: Global Warming Causes ...: Before I begin, I promise you that the story ... http://bit.ly/8YKBgC</td><td>1</td><td>0.0</td></tr><tr><td>UW biologist links early blooms to global warming|Associated Press - April 21, 2010 6:15 AM ET STEVENS POINT, .. [link]</td><td>1</td><td>1.0</td></tr><tr><td>UW biologist links early blooms to global warming|Associated Press - April 21, 2010 6:15 AM ET STEVENS POINT, .. http://oohja.com/xbiRQ</td><td>1</td><td>1.0</td></tr><tr><td>United States Must Lead on Climate Change ��_ Kerry; Climate and Energy Bill Has Multiple Benefits #green [link]</td><td>1</td><td>1.0</td></tr><tr><td>Utah state representative claims climate change is a 'conspiracy' aimed at population control. http://tr.im/N5Tx</td><td>0</td><td>0.0</td></tr><tr><td>Vattenfall's CEO on clean energy, and not being a 'lone wolf' on climate change http://bit.ly/bPKwzC</td><td>1</td><td>1.0</td></tr><tr><td>Videos: How we know humans are changing the climate and climate change is a clear and present danger http://retwt.me/1LTL9 (via @350dotorg)</td><td>1</td><td>1.0</td></tr><tr><td>Volcanic ash cloud: Global warming may trigger more volcanoes|Climate change could spark more ''hazardous'' .. http://oohja.com/xb8s2</td><td>1</td><td>1.0</td></tr><tr><td>Volcanic ash cloud: Global warming may trigger more volcanoes|Climate change could spark more ''hazardous'' .. http://oohja.com/xb8ws</td><td>1</td><td>1.0</td></tr><tr><td>Volcanic ash is a good thing. Blocks the sun's heat. Lessens air travel. Bye bye global warming. #fb</td><td>1</td><td>1.0</td></tr><tr><td>Volcano could mean cooling, acid rain - Climate Change- msnbc.com http://retwt.me/1MQJk (via @_bradpitt)</td><td>1</td><td>1.0</td></tr><tr><td>WSJ- Global warming alarmists have been discredited, but you wouldn't know it from the rhetoric this Earth Day. http://on.wsj.com/bbuPvl</td><td>0</td><td>0.0</td></tr><tr><td>WV stakeholders tackle climate change concerns: Stakeholders in Western Visayas gather for a two-day regional conf... http://bit.ly/dpaK9s</td><td>1</td><td>1.0</td></tr><tr><td>Warming Wins Global Warming War - Kiddo, Florida was nice, but you didn't miss too much. Think: NewYork's waiting r... http://ow.ly/179Xkb</td><td>1</td><td>1.0</td></tr><tr><td>Warming Wins Global Warming War: http://digg.com/d31PC8W?t #LOL  @rocketman528</td><td>1</td><td>0.0</td></tr><tr><td>Washington DC takes a Snow Day!!! Global Warming? I don't think so! http://bit.ly/9w0SZn #IPCC #climate #climategate #p2 #tlot #tcot #jokes</td><td>0</td><td>0.0</td></tr><tr><td>Watching 'Joseph D'Aleo Full Interview on Global Warming Hoax' at Vodpod http://bit.ly/cW6QJ8</td><td>0</td><td>0.0</td></tr><tr><td>Water Vapor Slowed Global Warming Over Past Decade: Over the last 10 years, global temperatures rose about 25 pe... http://bit.ly/b5dfKU</td><td>1</td><td>0.0</td></tr><tr><td>Ways The Difficult Economy has Helped people Focus on Family and ...: ... Climate Change, clinical trials collagen... http://bit.ly/9OIovA</td><td>1</td><td>1.0</td></tr><tr><td>We take climate change seriously & as a business, we hold ourselves responsible for our impact. Learn how:  http://ow.ly/13Oho</td><td>1</td><td>1.0</td></tr><tr><td>Well that takes care of the global warming agenda for the year. They'll have to hire some new guys to go back and rewrite the record books.</td><td>0</td><td>1.0</td></tr><tr><td>What ISN'T evidence of glbl warmg? RT @ebertchicago: Many scientists believe the Snowpocalypse is more evidnce of Climate Change aka warming</td><td>0</td><td>0.0</td></tr><tr><td>What The Snowpocalypse Tells Us About Global Warming http://url4.eu/1Mkd0</td><td>1</td><td>1.0</td></tr><tr><td>What are some major sources of water pollution? | Global Warming http://bit.ly/cjGmk4</td><td>1</td><td>1.0</td></tr><tr><td>What would a year without summer, due only to an intense solar minimum (i.e. 1816), imply for climate change efforts? Ppl won't get this.</td><td>1</td><td>1.0</td></tr><tr><td>When a politician or pundit says 'look it's snowing so there can't be global warming. http://bit.ly/cGOcqU</td><td>1</td><td>0.0</td></tr><tr><td>Where's that Global Warming???</td><td>0</td><td>0.0</td></tr><tr><td>Where's the Real Roadblock to Climate Change and Clean Energy Legislation in the US? http://url4.eu/34tFU</td><td>1</td><td>1.0</td></tr><tr><td>Why cleaner air could speed global warming [link]</td><td>1</td><td>1.0</td></tr><tr><td>Why cleaner air could speed global warming [link]</td><td>1</td><td>1.0</td></tr><tr><td>Why cleaner air could speed global warming | Air Pollution News http://bit.ly/bpx3Xh</td><td>1</td><td>1.0</td></tr><tr><td>Why cleaner air could speed global warming: Aerosol pollution, which is now on the downswing, has helped keep the ... [link]</td><td>1</td><td>1.0</td></tr><tr><td>Why climate change will make your allegeries worse, http://su.pr/16aLt5</td><td>1</td><td>1.0</td></tr><tr><td>Why isn't @algore upset with the volcano for causing global warming? #climategate</td><td>0</td><td>0.0</td></tr><tr><td>Will the sheeple in Philly finally understand who has been brainwashing them about global warming and why? #tcot Naaahhhaaaa. #gop</td><td>0</td><td>0.0</td></tr><tr><td>Wisconsin's scaled-back global warming bill unveiled: A revised state clean energy and global warming bill unveile... http://bit.ly/bSOrWH</td><td>1</td><td>1.0</td></tr><tr><td>World People's Conference On Climate Change http://retwt.me/1MTa6 (via @climatecamp)</td><td>1</td><td>1.0</td></tr><tr><td>World-Famous Places Endangered by Global Warming: If climatologists' predictions of global warming are right, some... http://bit.ly/a7S4GQ</td><td>1</td><td>1.0</td></tr><tr><td>Yeah, about that Global Warming footprint, Al... You hypocritical jackass.</td><td>0</td><td>0.0</td></tr><tr><td>You and Us and Me - UNFCCC Kyoto Protocol and Climate Change http://retwt.me/1MSRh (via @NewsOnGreen)</td><td>1</td><td>1.0</td></tr><tr><td>YouTube - Climate change sceptic in Australia - Lord Christopher Monckton http://retwt.me/1LU5N (via @AlterXMedia)</td><td>0</td><td>1.0</td></tr><tr><td>YouTube - Thomas Sowell: Global Warming Manufactured by Intellectuals? peter m robinson :O</td><td>0</td><td>0.0</td></tr><tr><td>Your Voice: The fraud of global warming: by Tim Michael Case, Tracy Since the early 1970s, our public school syste... [link]</td><td>0</td><td>0.0</td></tr><tr><td>Your in Orlando right? Florida freeze due to global warming! http://tweetphoto.com/10688502</td><td>1</td><td>1.0</td></tr><tr><td>[#Meat-Wise]  Cynthia Bateman on Meat-Wise Monday: How Animal Agriculture Makes Global Warming Worse http://bit.ly/9c04zs</td><td>1</td><td>1.0</td></tr><tr><td>[...] and Reduce Greenhouse Gas Emissions  That Cause Global Warming Until Unemployment Drops Below Specified Level for Full Year</td><td>1</td><td>1.0</td></tr><tr><td>about that whole climate change thing...http://bit.ly/cUg6WF</td><td>0</td><td>1.0</td></tr><tr><td>climate change | glaciers | acrtic | melting http://retwt.me/1LYil (via @EarthBlog)</td><td>1</td><td>1.0</td></tr><tr><td>computer forensics experts: are there still any idiots out there that belive global warming is true? [link]</td><td>0</td><td>0.0</td></tr><tr><td>computer forensics experts: are there still any idiots out there that belive global warming is true? http://bit.ly/aUrimy</td><td>0</td><td>0.0</td></tr><tr><td>didn't realize arkansas let climate change denying fair taxers run in dem primary. #ardebate</td><td>0</td><td>1.0</td></tr><tr><td>effects of global warming ��_ YouTube ��_ Effects of Global Warming Stats: Back with more news for you today. It's ama... [link]</td><td>1</td><td>1.0</td></tr><tr><td>effects of global warming ��_ YouTube ��_ Effects of Global Warming Stats: Back with more news for you today. It's ama... [link]</td><td>1</td><td>1.0</td></tr><tr><td>effects of global warming ��_ YouTube ��_ Impact of Climate Change on ...: There are many predicted effects for the en... [link]</td><td>1</td><td>1.0</td></tr><tr><td>evidences of global warming Go Green Toolshed ' Blog Archive ' Global Warming Myths and Facts</td><td>1</td><td>1.0</td></tr><tr><td>fail! this article mentions climate change midway through the article. totally buried the lede. http://bit.ly/afgr51 #journalism #climate</td><td>0</td><td>1.0</td></tr><tr><td>global warming http://bit.ly/dwthqd :O Bill Blocking EPA Authority to Curb Global Warming Pollution an</td><td>1</td><td>1.0</td></tr><tr><td>global warming verified:  http://www.wunderground.com/blog/JeffMasters/comment.html?entrynum=1427</td><td>1</td><td>1.0</td></tr><tr><td>good luck What can our families do to help stop global warming? ;)</td><td>1</td><td>1.0</td></tr><tr><td>gridlock Facts brushed over by global warming fanatics  :O</td><td>0</td><td>1.0</td></tr><tr><td>http://bit.ly/bxMwb8 :) What can our families do to help stop global warming? stop global warming</td><td>1</td><td>1.0</td></tr><tr><td>http://bit.ly/dCjUlz -Ancient Weapons Emerge From Melting Arctic Ice-Wow,positive side of Global Warming.Other one is reclaim of dry land</td><td>1</td><td>1.0</td></tr><tr><td>if you're one of the 10s of thousands without power from the blizzard and you voted for this global warming dipshit, i'm glad you're f-d.</td><td>0</td><td>0.0</td></tr><tr><td>kudos to Lindsay Graham on being so strong on climate change.  http://bit.ly/dbMjMa</td><td>1</td><td>1.0</td></tr><tr><td>man made global warming a hair brained theory 4 the scientifically challenged the IPPC has nothing to back up claims #tcot #p2 #climategate</td><td>0</td><td>0.0</td></tr><tr><td>new: Global Warming Incoherence http://strata-sphere.com/blog/index.php/archives/12671</td><td>0</td><td>1.0</td></tr><tr><td>on the subject of the epic scam that is global warming obumers global warming council got snowed out LOL</td><td>0</td><td>0.0</td></tr><tr><td>pretty big.. Former Senator Warner ties Climate Change to security issues...  http://bit.ly/9a5S0n</td><td>1</td><td>0.0</td></tr><tr><td>reading from @time Allergies Worse Than Ever? Blame Global Warming [link]</td><td>1</td><td>1.0</td></tr><tr><td>so, is it human abuse that results in another horror story like #ashtag..(hello, global warming!?...and will we ever stop?) what do u think?</td><td>1</td><td>0.0</td></tr><tr><td>uh-oh RT @MyCooL03Mc: Abu Dhabi faces climate change flood threat - expert: Scientist says capital could have to (cont) http://tl.gd/qqnuf</td><td>1</td><td>1.0</td></tr><tr><td>well this is just crazy: Coal CEO Calls Mine Safety Rules 'As Silly As Global Warming' http://bit.ly/aJTn26</td><td>1</td><td>0.0</td></tr><tr><td>wow we had a blizzard & an earthquake. Take that you global warming non-believers!</td><td>1</td><td>1.0</td></tr><tr><td>��_No Rain in the Amazon: How South America��_s Climate Change Affects Entire Planet��_ -Interview of Nikolas Kozloff (vid) [link]</td><td>1</td><td>1.0</td></tr></tbody></table></div>"
      ]
     },
     "metadata": {},
     "output_type": "display_data"
    }
   ],
   "source": [
    "display(resultDF.select(\"tweet\",\"existence\",\"prediction\"))"
   ]
  },
  {
   "cell_type": "markdown",
   "metadata": {},
   "source": [
    "## ParamGrid\n",
    "\n",
    "There are a lot of hyperparamaters we could tune, and it would take a long time to manually configure.\n",
    "\n",
    "Instead of a manual (ad-hoc) approach, let's use Spark's `ParamGridBuilder` to find the optimal hyperparameters in a more systematic approach.\n",
    "\n",
    "For more information see:\n",
    "* Python: <a href=\"https://spark.apache.org/docs/latest/api/python/pyspark.ml.html#pyspark.ml.tuning.ParamGridBuilder\" target=\"_blank\">ParamGridBuilder</a>\n",
    "\n",
    "We have the following pipeline stages for which we might want to tune hyperparameters:\n",
    "- CountVectorizer\n",
    "- IDF\n",
    "- LogisticRegressionClassifier\n",
    "\n",
    "We can see which parameters we might want to tune, but `explainParams()` on each of those."
   ]
  },
  {
   "cell_type": "code",
   "execution_count": 16,
   "metadata": {},
   "outputs": [
    {
     "data": {
      "text/html": [
       "<style scoped>\n",
       "  .ansiout {\n",
       "    display: block;\n",
       "    unicode-bidi: embed;\n",
       "    white-space: pre-wrap;\n",
       "    word-wrap: break-word;\n",
       "    word-break: break-all;\n",
       "    font-family: \"Source Code Pro\", \"Menlo\", monospace;;\n",
       "    font-size: 13px;\n",
       "    color: #555;\n",
       "    margin-left: 4px;\n",
       "    line-height: 19px;\n",
       "  }\n",
       "</style>\n",
       "<div class=\"ansiout\"><span class=\"ansired\">Out[</span><span class=\"ansired\">11</span><span class=\"ansired\">]: </span>&quot;aggregationDepth: suggested depth for treeAggregate (&gt;= 2). (default: 2)\\nelasticNetParam: the ElasticNet mixing parameter, in range [0, 1]. For alpha = 0, the penalty is an L2 penalty. For alpha = 1, it is an L1 penalty. (default: 0.0)\\nfamily: The name of family which is a description of the label distribution to be used in the model. Supported options: auto, binomial, multinomial (default: auto)\\nfeaturesCol: features column name. (default: features, current: features)\\nfitIntercept: whether to fit an intercept term. (default: True)\\nlabelCol: label column name. (default: label, current: existence)\\nlowerBoundsOnCoefficients: The lower bounds on coefficients if fitting under bound constrained optimization. The bound matrix must be compatible with the shape (1, number of features) for binomial regression, or (number of classes, number of features) for multinomial regression. (undefined)\\nlowerBoundsOnIntercepts: The lower bounds on intercepts if fitting under bound constrained optimization. The bounds vector size must beequal with 1 for binomial regression, or the number oflasses for multinomial regression. (undefined)\\nmaxIter: max number of iterations (&gt;= 0). (default: 100)\\npredictionCol: prediction column name. (default: prediction)\\nprobabilityCol: Column name for predicted class conditional probabilities. Note: Not all models output well-calibrated probability estimates! These probabilities should be treated as confidences, not precise probabilities. (default: probability)\\nrawPredictionCol: raw prediction (a.k.a. confidence) column name. (default: rawPrediction)\\nregParam: regularization parameter (&gt;= 0). (default: 0.0)\\nstandardization: whether to standardize the training features before fitting the model. (default: True)\\nthreshold: Threshold in binary classification prediction, in range [0, 1]. If threshold and thresholds are both set, they must match.e.g. if threshold is p, then thresholds must be equal to [1-p, p]. (default: 0.5)\\nthresholds: Thresholds in multi-class classification to adjust the probability of predicting each class. Array must have length equal to the number of classes, with values &gt; 0, excepting that at most one value may be 0. The class with largest value p/t is predicted, where p is the original probability of that class and t is the class&apos;s threshold. (undefined)\\ntol: the convergence tolerance for iterative algorithms (&gt;= 0). (default: 1e-06)\\nupperBoundsOnCoefficients: The upper bounds on coefficients if fitting under bound constrained optimization. The bound matrix must be compatible with the shape (1, number of features) for binomial regression, or (number of classes, number of features) for multinomial regression. (undefined)\\nupperBoundsOnIntercepts: The upper bounds on intercepts if fitting under bound constrained optimization. The bound vector size must be equal with 1 for binomial regression, or the number of classes for multinomial regression. (undefined)\\nweightCol: weight column name. If this is not set or empty, we treat all instance weights as 1.0. (undefined)&quot;\n",
       "</div>"
      ]
     },
     "metadata": {},
     "output_type": "display_data"
    }
   ],
   "source": [
    "lg.explainParams()"
   ]
  },
  {
   "cell_type": "code",
   "execution_count": 17,
   "metadata": {},
   "outputs": [
    {
     "data": {
      "text/html": [
       "<style scoped>\n",
       "  .ansiout {\n",
       "    display: block;\n",
       "    unicode-bidi: embed;\n",
       "    white-space: pre-wrap;\n",
       "    word-wrap: break-word;\n",
       "    word-break: break-all;\n",
       "    font-family: \"Source Code Pro\", \"Menlo\", monospace;;\n",
       "    font-size: 13px;\n",
       "    color: #555;\n",
       "    margin-left: 4px;\n",
       "    line-height: 19px;\n",
       "  }\n",
       "</style>\n",
       "<div class=\"ansiout\"><span class=\"ansired\">Out[</span><span class=\"ansired\">12</span><span class=\"ansired\">]: </span>&quot;binary: Binary toggle to control the output vector values. If True, all nonzero counts (after minTF filter applied) are set to 1. This is useful for discrete probabilistic models that model binary events rather than integer counts. Default False (default: False)\\ninputCol: input column name. (current: stopWordFree)\\nmaxDF: Specifies the maximum number of different documents a term could appear in to be included in the vocabulary. A term that appears more than the threshold will be ignored. If this is an integer &gt;= 1, this specifies the maximum number of documents the term could appear in; if this is a double in [0,1), then this specifies the maximum fraction of documents the term could appear in. Default (2^63) - 1 (default: 9.223372036854776e+18)\\nminDF: Specifies the minimum number of different documents a term must appear in to be included in the vocabulary. If this is an integer &gt;= 1, this specifies the number of documents the term must appear in; if this is a double in [0,1), then this specifies the fraction of documents. Default 1.0 (default: 1.0)\\nminTF: Filter to ignore rare words in a document. For each document, terms with frequency/count less than the given threshold are ignored. If this is an integer &gt;= 1, then this specifies a count (of times the term must appear in the document); if this is a double in [0,1), then this specifies a fraction (out of the document&apos;s token count). Note that the parameter is only used in transform of CountVectorizerModel and does not affect fitting. Default 1.0 (default: 1.0)\\noutputCol: output column name. (default: CountVectorizer_d84a8ea7f4e1__output, current: counts)\\nvocabSize: max size of the vocabulary. Default 1 &lt;&lt; 18. (default: 262144)&quot;\n",
       "</div>"
      ]
     },
     "metadata": {},
     "output_type": "display_data"
    }
   ],
   "source": [
    "counts.explainParams()"
   ]
  },
  {
   "cell_type": "code",
   "execution_count": 18,
   "metadata": {},
   "outputs": [
    {
     "data": {
      "text/html": [
       "<style scoped>\n",
       "  .ansiout {\n",
       "    display: block;\n",
       "    unicode-bidi: embed;\n",
       "    white-space: pre-wrap;\n",
       "    word-wrap: break-word;\n",
       "    word-break: break-all;\n",
       "    font-family: \"Source Code Pro\", \"Menlo\", monospace;;\n",
       "    font-size: 13px;\n",
       "    color: #555;\n",
       "    margin-left: 4px;\n",
       "    line-height: 19px;\n",
       "  }\n",
       "</style>\n",
       "<div class=\"ansiout\"><span class=\"ansired\">Out[</span><span class=\"ansired\">13</span><span class=\"ansired\">]: </span>&apos;inputCol: input column name. (current: counts)\\nminDocFreq: minimum number of documents in which a term should appear for filtering (default: 0)\\noutputCol: output column name. (default: IDF_6cbff6f80e44__output, current: features)&apos;\n",
       "</div>"
      ]
     },
     "metadata": {},
     "output_type": "display_data"
    }
   ],
   "source": [
    "idf.explainParams()"
   ]
  },
  {
   "cell_type": "code",
   "execution_count": 19,
   "metadata": {},
   "outputs": [
    {
     "data": {
      "text/html": [
       "<style scoped>\n",
       "  .ansiout {\n",
       "    display: block;\n",
       "    unicode-bidi: embed;\n",
       "    white-space: pre-wrap;\n",
       "    word-wrap: break-word;\n",
       "    word-break: break-all;\n",
       "    font-family: \"Source Code Pro\", \"Menlo\", monospace;;\n",
       "    font-size: 13px;\n",
       "    color: #555;\n",
       "    margin-left: 4px;\n",
       "    line-height: 19px;\n",
       "  }\n",
       "</style>\n",
       "<div class=\"ansiout\"></div>"
      ]
     },
     "metadata": {},
     "output_type": "display_data"
    }
   ],
   "source": [
    "from pyspark.ml.tuning import ParamGridBuilder\n",
    "\n",
    "param_grid = (ParamGridBuilder()\n",
    "             .addGrid(idf.minDocFreq, [0, 1, 2])\n",
    "             .addGrid(lg.elasticNetParam, [0, 1])\n",
    "             .addGrid(lg.regParam, [0, 0.01, .1])\n",
    "             .build())"
   ]
  },
  {
   "cell_type": "markdown",
   "metadata": {},
   "source": [
    "Setting up Cross-Validation\n",
    "\n",
    "Now we can use 3-fold cross-validation to identify the optimal combination of hyper-parameters\n",
    "\n",
    "With 3-fold cross-validation, we train on 2/3 of the data and evaluate with the remaining (held-out) 1/3. We repeat this process 3 times, so each fold gets the chance to act as the validation set. We then average the results of the three rounds."
   ]
  },
  {
   "cell_type": "markdown",
   "metadata": {},
   "source": [
    "We pass in the `estimator` (our original pipeline), an `evaluator`, and an `estimatorParamMaps` to the `CrossValidator` so that it knows:\n",
    "- Which model to use\n",
    "- How to evaluate the model\n",
    "- What hyperparamters to set on the model\n",
    "\n",
    "We can also set the number of folds we want to split our data into (3), as well as setting a seed so we all have the same split in the data.\n",
    "\n",
    "For more information see:\n",
    "* Python: <a href=\"https://spark.apache.org/docs/latest/api/python/pyspark.ml.html#pyspark.ml.tuning.CrossValidator\" target=\"_blank\">CrossValidator</a>"
   ]
  },
  {
   "cell_type": "code",
   "execution_count": 22,
   "metadata": {},
   "outputs": [
    {
     "data": {
      "text/html": [
       "<style scoped>\n",
       "  .ansiout {\n",
       "    display: block;\n",
       "    unicode-bidi: embed;\n",
       "    white-space: pre-wrap;\n",
       "    word-wrap: break-word;\n",
       "    word-break: break-all;\n",
       "    font-family: \"Source Code Pro\", \"Menlo\", monospace;;\n",
       "    font-size: 13px;\n",
       "    color: #555;\n",
       "    margin-left: 4px;\n",
       "    line-height: 19px;\n",
       "  }\n",
       "</style>\n",
       "<div class=\"ansiout\"></div>"
      ]
     },
     "metadata": {},
     "output_type": "display_data"
    }
   ],
   "source": [
    "from pyspark.ml.tuning import CrossValidator\n",
    "\n",
    "evaluator = (MulticlassClassificationEvaluator()\n",
    "             .setLabelCol(\"existence\")\n",
    "             .setPredictionCol(\"prediction\")\n",
    "             .setMetricName('accuracy'))\n",
    "\n",
    "cv = (CrossValidator()\n",
    "  .setEstimator(pipeline)\n",
    "  .setEvaluator(evaluator)\n",
    "  .setEstimatorParamMaps(param_grid)\n",
    "  .setNumFolds(3)\n",
    "  .setSeed(27))"
   ]
  },
  {
   "cell_type": "code",
   "execution_count": 23,
   "metadata": {},
   "outputs": [
    {
     "data": {
      "text/html": [
       "<style scoped>\n",
       "  .ansiout {\n",
       "    display: block;\n",
       "    unicode-bidi: embed;\n",
       "    white-space: pre-wrap;\n",
       "    word-wrap: break-word;\n",
       "    word-break: break-all;\n",
       "    font-family: \"Source Code Pro\", \"Menlo\", monospace;;\n",
       "    font-size: 13px;\n",
       "    color: #555;\n",
       "    margin-left: 4px;\n",
       "    line-height: 19px;\n",
       "  }\n",
       "</style>\n",
       "<div class=\"ansiout\"></div>"
      ]
     },
     "metadata": {},
     "output_type": "display_data"
    }
   ],
   "source": [
    "cv_model = cv.fit(trainDF)"
   ]
  },
  {
   "cell_type": "markdown",
   "metadata": {},
   "source": [
    "And now we can take a look at the model with the best hyperparameter configuration:"
   ]
  },
  {
   "cell_type": "code",
   "execution_count": 25,
   "metadata": {},
   "outputs": [
    {
     "data": {
      "text/html": [
       "<style scoped>\n",
       "  .ansiout {\n",
       "    display: block;\n",
       "    unicode-bidi: embed;\n",
       "    white-space: pre-wrap;\n",
       "    word-wrap: break-word;\n",
       "    word-break: break-all;\n",
       "    font-family: \"Source Code Pro\", \"Menlo\", monospace;;\n",
       "    font-size: 13px;\n",
       "    color: #555;\n",
       "    margin-left: 4px;\n",
       "    line-height: 19px;\n",
       "  }\n",
       "</style>\n",
       "<div class=\"ansiout\">dict_values([0.0, 0, 0.0]) 0.8068009051509579\n",
       "dict_values([0.0, 0, 0.01]) 0.810155529060261\n",
       "dict_values([0.0, 0, 0.1]) 0.806977831843027\n",
       "dict_values([0.0, 1, 0.0]) 0.8068009051509579\n",
       "dict_values([0.0, 1, 0.01]) 0.810155529060261\n",
       "dict_values([0.0, 1, 0.1]) 0.806977831843027\n",
       "dict_values([0.0, 2, 0.0]) 0.7821074301642927\n",
       "dict_values([0.0, 2, 0.01]) 0.8099564182758959\n",
       "dict_values([0.0, 2, 0.1]) 0.8123681971129317\n",
       "dict_values([1.0, 0, 0.0]) 0.8068009051509579\n",
       "dict_values([1.0, 0, 0.01]) 0.8123326195046939\n",
       "dict_values([1.0, 0, 0.1]) 0.7355137415858495\n",
       "dict_values([1.0, 1, 0.0]) 0.8068009051509579\n",
       "dict_values([1.0, 1, 0.01]) 0.8123326195046939\n",
       "dict_values([1.0, 1, 0.1]) 0.7355137415858495\n",
       "dict_values([1.0, 2, 0.0]) 0.7821074301642927\n",
       "dict_values([1.0, 2, 0.01]) 0.8099381487972168\n",
       "dict_values([1.0, 2, 0.1]) 0.7355137415858495\n",
       "</div>"
      ]
     },
     "metadata": {},
     "output_type": "display_data"
    }
   ],
   "source": [
    "# Zip the two lists together\n",
    "results = list(zip(cv_model.getEstimatorParamMaps(), cv_model.avgMetrics))\n",
    "\n",
    "# # And pretty print 'em\n",
    "for x in results:\n",
    "  params, acc = x[0].values(), x[1]\n",
    "  print(params, acc)"
   ]
  },
  {
   "cell_type": "markdown",
   "metadata": {},
   "source": [
    "## Use fitted pipeline to transform test data\n",
    "\n",
    "Using our newest mode, let's make a final set of predictions:"
   ]
  },
  {
   "cell_type": "code",
   "execution_count": 27,
   "metadata": {},
   "outputs": [
    {
     "data": {
      "text/html": [
       "<style scoped>\n",
       "  .table-result-container {\n",
       "    max-height: 300px;\n",
       "    overflow: auto;\n",
       "  }\n",
       "  table, th, td {\n",
       "    border: 1px solid black;\n",
       "    border-collapse: collapse;\n",
       "  }\n",
       "  th, td {\n",
       "    padding: 5px;\n",
       "  }\n",
       "  th {\n",
       "    text-align: left;\n",
       "  }\n",
       "</style><div class='table-result-container'><table class='table-result'><thead style='background-color: white'><tr><th>existence</th><th>prediction</th><th>count</th></tr></thead><tbody><tr><td>1</td><td>0.0</td><td>41</td></tr><tr><td>0</td><td>0.0</td><td>99</td></tr><tr><td>1</td><td>1.0</td><td>553</td></tr><tr><td>0</td><td>1.0</td><td>91</td></tr></tbody></table></div>"
      ]
     },
     "metadata": {},
     "output_type": "display_data"
    }
   ],
   "source": [
    "finalResultDF = cv_model.transform(testDF)\n",
    "\n",
    "display(finalResultDF.groupBy(\"existence\", \"prediction\").count())"
   ]
  },
  {
   "cell_type": "markdown",
   "metadata": {},
   "source": [
    "## Evaluating the New Model\n",
    "\n",
    "Let's see how our latest model does:"
   ]
  },
  {
   "cell_type": "code",
   "execution_count": 29,
   "metadata": {},
   "outputs": [
    {
     "data": {
      "text/html": [
       "<style scoped>\n",
       "  .ansiout {\n",
       "    display: block;\n",
       "    unicode-bidi: embed;\n",
       "    white-space: pre-wrap;\n",
       "    word-wrap: break-word;\n",
       "    word-break: break-all;\n",
       "    font-family: \"Source Code Pro\", \"Menlo\", monospace;;\n",
       "    font-size: 13px;\n",
       "    color: #555;\n",
       "    margin-left: 4px;\n",
       "    line-height: 19px;\n",
       "  }\n",
       "</style>\n",
       "<div class=\"ansiout\">Test ACC = 0.831633\n",
       "</div>"
      ]
     },
     "metadata": {},
     "output_type": "display_data"
    }
   ],
   "source": [
    "acc = evaluator.evaluate(finalResultDF)\n",
    "\n",
    "print(\"Test ACC = %f\" % acc)"
   ]
  },
  {
   "cell_type": "markdown",
   "metadata": {},
   "source": [
    "## Save model pipeline\n",
    "\n",
    "Let's save the best model our cross-validation procedure found, so we can use it in the next lab.\n",
    "\n",
    "Checkout how to extract the best model when using cross-validation!"
   ]
  },
  {
   "cell_type": "code",
   "execution_count": 31,
   "metadata": {},
   "outputs": [
    {
     "data": {
      "text/html": [
       "<style scoped>\n",
       "  .ansiout {\n",
       "    display: block;\n",
       "    unicode-bidi: embed;\n",
       "    white-space: pre-wrap;\n",
       "    word-wrap: break-word;\n",
       "    word-break: break-all;\n",
       "    font-family: \"Source Code Pro\", \"Menlo\", monospace;;\n",
       "    font-size: 13px;\n",
       "    color: #555;\n",
       "    margin-left: 4px;\n",
       "    line-height: 19px;\n",
       "  }\n",
       "</style>\n",
       "<div class=\"ansiout\"></div>"
      ]
     },
     "metadata": {},
     "output_type": "display_data"
    }
   ],
   "source": [
    "fileName = \"my_pipeline\"\n",
    "\n",
    "cv_model.bestModel.write().overwrite().save(fileName)"
   ]
  },
  {
   "cell_type": "code",
   "execution_count": 32,
   "metadata": {},
   "outputs": [
    {
     "data": {
      "text/html": [
       "<style scoped>\n",
       "  .ansiout {\n",
       "    display: block;\n",
       "    unicode-bidi: embed;\n",
       "    white-space: pre-wrap;\n",
       "    word-wrap: break-word;\n",
       "    word-break: break-all;\n",
       "    font-family: \"Source Code Pro\", \"Menlo\", monospace;;\n",
       "    font-size: 13px;\n",
       "    color: #555;\n",
       "    margin-left: 4px;\n",
       "    line-height: 19px;\n",
       "  }\n",
       "</style>\n",
       "<div class=\"ansiout\"></div>"
      ]
     },
     "metadata": {},
     "output_type": "display_data"
    }
   ],
   "source": [
    "# You can ignore this code, we use it for testing our notebooks.\n",
    "assert acc > .82"
   ]
  },
  {
   "cell_type": "markdown",
   "metadata": {},
   "source": [
    "Copyright (c) Microsoft Corporation. All rights reserved.\n",
    "\n",
    "Licensed under the MIT License."
   ]
  }
 ],
 "metadata": {
  "kernelspec": {
   "display_name": "Python 3",
   "language": "python",
   "name": "python3"
  },
  "language_info": {
   "codemirror_mode": {
    "name": "ipython",
    "version": 3
   },
   "file_extension": ".py",
   "mimetype": "text/x-python",
   "name": "python",
   "nbconvert_exporter": "python",
   "pygments_lexer": "ipython3",
   "version": "3.7.1"
  },
  "name": "04_hyperparameter_tuning",
  "notebookId": 4057188818415972
 },
 "nbformat": 4,
 "nbformat_minor": 1
}
